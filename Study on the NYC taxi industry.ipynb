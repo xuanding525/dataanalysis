{
 "cells": [
  {
   "cell_type": "markdown",
   "metadata": {},
   "source": [
    "## Executive Summary\n",
    "\n",
    "In this notebook, I study the NYC taxi industry focusing on the taxi trip data in 2019 and 2020. Below are my main findings.\n",
    "\n",
    "1. Using a DID model, I have estimated the impact of Covid-19 on the yellow taxi fare amount pre and post 2019. I find that the pandemic causes the monthly market fare volume to drop by about -74.1 million. The tip amount also drops down during the pandemic and it gradually recovers since Jun 2020. During Covid-19, passengers tend to use taxi service more when longer travel distance is involved, and are less likely to travel across the congestion zone. In order to keep social distance, lower average passengers per trip is also observed.\n",
    "2. In 2019, the month of the year with the highest average tip is Feb, in terms of percentage. The day of the week with the highest tip in 2019 is a Friday and the transaction hour is 9 pm.\n",
    "3. Using only 2019 and 2020 yellow taxi transaction data. The average tip from LGA is 5.52 dollars and the average tip from JFK is 5.85 dollars.\n",
    "4. By comparing the market fare volume in the first half of 2019 and 2020 in the yellow cab transaction data, I can see that the taxi market is shrinking. This is partly due to the impact of Covid-19. However, from the DID regression, the year 2020 indicator has a negative coefficient. This suggests that there are other factors inducing the shrinkage of taxi transactions. One conjecture is that mobile app like Uber and Lyft has a substitution effect on the taxi."
   ]
  },
  {
   "cell_type": "code",
   "execution_count": 4,
   "metadata": {
    "collapsed": true
   },
   "outputs": [],
   "source": [
    "import requests\n",
    "import numpy as np\n",
    "import pandas as pd"
   ]
  },
  {
   "cell_type": "code",
   "execution_count": 5,
   "metadata": {},
   "outputs": [],
   "source": [
    "from urllib.error import HTTPError"
   ]
  },
  {
   "cell_type": "markdown",
   "metadata": {},
   "source": [
    "## Question 1: Study the impact of Covid-19\n",
    "\n",
    "Due the limited capacity of computer, I need to do some preprocessing in order to run my analysis"
   ]
  },
  {
   "cell_type": "code",
   "execution_count": 5,
   "metadata": {
    "scrolled": true
   },
   "outputs": [
    {
     "name": "stderr",
     "output_type": "stream",
     "text": [
      "C:\\Users\\esper\\Anaconda3\\lib\\site-packages\\IPython\\core\\interactiveshell.py:2698: DtypeWarning: Columns (6) have mixed types. Specify dtype option on import or set low_memory=False.\n",
      "  interactivity=interactivity, compiler=compiler, result=result)\n"
     ]
    }
   ],
   "source": [
    "data2020 = pd.DataFrame()\n",
    "for j in range (1, 7):\n",
    "    url = 'https://s3.amazonaws.com/nyc-tlc/trip+data/yellow_tripdata_2020-{}.csv'.format(str(j).zfill(2))\n",
    "    try:\n",
    "        df = pd.read_csv(url)\n",
    "        df['pick_date']= df['tpep_pickup_datetime'].apply(lambda x: x[0:4]+x[5:7]+x[8:10]).astype(int)\n",
    "        df['pick_hour']= df['tpep_pickup_datetime'].apply(lambda x: x[11:13]).astype(int)\n",
    "        df['pick_minute']= df['tpep_pickup_datetime'].apply(lambda x: x[14:16]).astype(int)\n",
    "        df['dropoff_date']= df['tpep_dropoff_datetime'].apply(lambda x: x[0:4]+x[5:7]+x[8:10]).astype(int)\n",
    "        df['dropoff_hour']= df['tpep_dropoff_datetime'].apply(lambda x: x[11:13]).astype(int)\n",
    "        df['dropoff_minute']= df['tpep_dropoff_datetime'].apply(lambda x: x[14:16]).astype(int)\n",
    "        df['store_and_fwd_flag']= df['store_and_fwd_flag'].map({'Y': 1, 'N': 0})\n",
    "        del df['tpep_dropoff_datetime']\n",
    "        del df['tpep_pickup_datetime']\n",
    "    except HTTPError:\n",
    "        df=pd.DataFrame()\n",
    "    data2020=pd.concat([data2020, df])"
   ]
  },
  {
   "cell_type": "code",
   "execution_count": 6,
   "metadata": {},
   "outputs": [
    {
     "name": "stdout",
     "output_type": "stream",
     "text": [
      "<class 'pandas.core.frame.DataFrame'>\n",
      "Int64Index: 16847778 entries, 0 to 549759\n",
      "Data columns (total 22 columns):\n",
      "VendorID                 float64\n",
      "passenger_count          float64\n",
      "trip_distance            float64\n",
      "RatecodeID               float64\n",
      "store_and_fwd_flag       float64\n",
      "PULocationID             int64\n",
      "DOLocationID             int64\n",
      "payment_type             float64\n",
      "fare_amount              float64\n",
      "extra                    float64\n",
      "mta_tax                  float64\n",
      "tip_amount               float64\n",
      "tolls_amount             float64\n",
      "improvement_surcharge    float64\n",
      "total_amount             float64\n",
      "congestion_surcharge     float64\n",
      "pick_date                int32\n",
      "pick_hour                int32\n",
      "pick_minute              int32\n",
      "dropoff_date             int32\n",
      "dropoff_hour             int32\n",
      "dropoff_minute           int32\n",
      "dtypes: float64(14), int32(6), int64(2)\n",
      "memory usage: 2.5 GB\n"
     ]
    }
   ],
   "source": [
    "data2020.info(memory_usage='deep')"
   ]
  },
  {
   "cell_type": "code",
   "execution_count": 7,
   "metadata": {},
   "outputs": [],
   "source": [
    "data2020['store_and_fwd_flag']=data2020['store_and_fwd_flag'].map({'Y': 1, 'N': 0})"
   ]
  },
  {
   "cell_type": "code",
   "execution_count": 8,
   "metadata": {
    "collapsed": true
   },
   "outputs": [],
   "source": [
    "# Drop memory usage\n",
    "float_cols=data2020.select_dtypes(include=['float']).columns\n",
    "int_cols=data2020.select_dtypes(include=['int']).columns\n",
    "data2020[float_cols]=data2020[float_cols].apply(pd.to_numeric,downcast='float')\n",
    "data2020[int_cols]=data2020[int_cols].apply(pd.to_numeric,downcast='unsigned')"
   ]
  },
  {
   "cell_type": "code",
   "execution_count": 9,
   "metadata": {
    "scrolled": true
   },
   "outputs": [
    {
     "name": "stdout",
     "output_type": "stream",
     "text": [
      "<class 'pandas.core.frame.DataFrame'>\n",
      "Int64Index: 16847778 entries, 0 to 549759\n",
      "Data columns (total 22 columns):\n",
      "VendorID                 float32\n",
      "passenger_count          float32\n",
      "trip_distance            float32\n",
      "RatecodeID               float32\n",
      "store_and_fwd_flag       float32\n",
      "PULocationID             int64\n",
      "DOLocationID             int64\n",
      "payment_type             float32\n",
      "fare_amount              float32\n",
      "extra                    float32\n",
      "mta_tax                  float32\n",
      "tip_amount               float32\n",
      "tolls_amount             float32\n",
      "improvement_surcharge    float32\n",
      "total_amount             float32\n",
      "congestion_surcharge     float32\n",
      "pick_date                uint32\n",
      "pick_hour                uint8\n",
      "pick_minute              uint8\n",
      "dropoff_date             uint32\n",
      "dropoff_hour             uint8\n",
      "dropoff_minute           uint8\n",
      "dtypes: float32(14), int64(2), uint32(2), uint8(4)\n",
      "memory usage: 1.4 GB\n"
     ]
    }
   ],
   "source": [
    "data2020.info(memory_usage='deep')"
   ]
  },
  {
   "cell_type": "code",
   "execution_count": 10,
   "metadata": {
    "collapsed": true
   },
   "outputs": [],
   "source": [
    "import gc"
   ]
  },
  {
   "cell_type": "code",
   "execution_count": 26,
   "metadata": {},
   "outputs": [
    {
     "data": {
      "text/plain": [
       "832"
      ]
     },
     "execution_count": 26,
     "metadata": {},
     "output_type": "execute_result"
    }
   ],
   "source": [
    "gc.collect()"
   ]
  },
  {
   "cell_type": "code",
   "execution_count": 12,
   "metadata": {
    "scrolled": true
   },
   "outputs": [],
   "source": [
    "data2019 = pd.DataFrame()\n",
    "for j in range (1, 7):\n",
    "    url = 'https://s3.amazonaws.com/nyc-tlc/trip+data/yellow_tripdata_2019-{}.csv'.format(str(j).zfill(2))\n",
    "    try:\n",
    "        df = pd.read_csv(url)\n",
    "        df['pick_date']= df['tpep_pickup_datetime'].apply(lambda x: x[0:4]+x[5:7]+x[8:10]).astype(int)\n",
    "        df['pick_hour']= df['tpep_pickup_datetime'].apply(lambda x: x[11:13]).astype(int)\n",
    "        df['pick_minute']= df['tpep_pickup_datetime'].apply(lambda x: x[14:16]).astype(int)\n",
    "        df['dropoff_date']= df['tpep_dropoff_datetime'].apply(lambda x: x[0:4]+x[5:7]+x[8:10]).astype(int)\n",
    "        df['dropoff_hour']= df['tpep_dropoff_datetime'].apply(lambda x: x[11:13]).astype(int)\n",
    "        df['dropoff_minute']= df['tpep_dropoff_datetime'].apply(lambda x: x[14:16]).astype(int)\n",
    "        df['store_and_fwd_flag']= df['store_and_fwd_flag'].map({'Y': 1, 'N': 0})\n",
    "        del df['tpep_dropoff_datetime']\n",
    "        del df['tpep_pickup_datetime']\n",
    "    except HTTPError:\n",
    "        df=pd.DataFrame()\n",
    "    data2019=pd.concat([data2019, df])"
   ]
  },
  {
   "cell_type": "code",
   "execution_count": 13,
   "metadata": {},
   "outputs": [
    {
     "data": {
      "text/plain": [
       "(16847778, 22)"
      ]
     },
     "execution_count": 13,
     "metadata": {},
     "output_type": "execute_result"
    }
   ],
   "source": [
    "data2020.shape"
   ]
  },
  {
   "cell_type": "code",
   "execution_count": 14,
   "metadata": {},
   "outputs": [
    {
     "data": {
      "text/plain": [
       "(44459136, 22)"
      ]
     },
     "execution_count": 14,
     "metadata": {},
     "output_type": "execute_result"
    }
   ],
   "source": [
    "data2019.shape"
   ]
  },
  {
   "cell_type": "code",
   "execution_count": 15,
   "metadata": {
    "collapsed": true
   },
   "outputs": [],
   "source": [
    "# Drop memory usage\n",
    "float_cols=data2019.select_dtypes(include=['float']).columns\n",
    "int_cols=data2019.select_dtypes(include=['int']).columns\n",
    "data2019[float_cols]=data2019[float_cols].apply(pd.to_numeric,downcast='float')\n",
    "data2019[int_cols]=data2019[int_cols].apply(pd.to_numeric,downcast='unsigned')"
   ]
  },
  {
   "cell_type": "markdown",
   "metadata": {},
   "source": [
    "### Distribution analysis of related columns"
   ]
  },
  {
   "cell_type": "code",
   "execution_count": 17,
   "metadata": {},
   "outputs": [
    {
     "data": {
      "text/plain": [
       "fare_amount              52.000000\n",
       "extra                     3.500000\n",
       "mta_tax                   0.500000\n",
       "tip_amount               12.280000\n",
       "tolls_amount              6.120000\n",
       "improvement_surcharge     0.300000\n",
       "total_amount             73.699997\n",
       "congestion_surcharge      2.500000\n",
       "trip_distance            19.129999\n",
       "passenger_count           6.000000\n",
       "Name: 0.99, dtype: float64"
      ]
     },
     "execution_count": 17,
     "metadata": {},
     "output_type": "execute_result"
    }
   ],
   "source": [
    "data2019[['fare_amount', 'extra', 'mta_tax', 'tip_amount', 'tolls_amount', 'improvement_surcharge', \\\n",
    "          'total_amount', 'congestion_surcharge', 'trip_distance', 'passenger_count',]].quantile(0.99)"
   ]
  },
  {
   "cell_type": "code",
   "execution_count": 18,
   "metadata": {},
   "outputs": [
    {
     "data": {
      "text/plain": [
       "fare_amount              5.0\n",
       "extra                    0.0\n",
       "mta_tax                  0.5\n",
       "tip_amount               0.0\n",
       "tolls_amount             0.0\n",
       "improvement_surcharge    0.3\n",
       "total_amount             8.5\n",
       "congestion_surcharge     0.0\n",
       "trip_distance            0.6\n",
       "passenger_count          1.0\n",
       "Name: 0.1, dtype: float64"
      ]
     },
     "execution_count": 18,
     "metadata": {},
     "output_type": "execute_result"
    }
   ],
   "source": [
    "data2019[['fare_amount', 'extra', 'mta_tax', 'tip_amount', 'tolls_amount', 'improvement_surcharge', \\\n",
    "          'total_amount', 'congestion_surcharge', 'trip_distance', 'passenger_count',]].quantile(0.1)"
   ]
  },
  {
   "cell_type": "code",
   "execution_count": 19,
   "metadata": {},
   "outputs": [
    {
     "data": {
      "text/html": [
       "<div>\n",
       "<style>\n",
       "    .dataframe thead tr:only-child th {\n",
       "        text-align: right;\n",
       "    }\n",
       "\n",
       "    .dataframe thead th {\n",
       "        text-align: left;\n",
       "    }\n",
       "\n",
       "    .dataframe tbody tr th {\n",
       "        vertical-align: top;\n",
       "    }\n",
       "</style>\n",
       "<table border=\"1\" class=\"dataframe\">\n",
       "  <thead>\n",
       "    <tr style=\"text-align: right;\">\n",
       "      <th></th>\n",
       "      <th>fare_amount</th>\n",
       "      <th>extra</th>\n",
       "      <th>mta_tax</th>\n",
       "      <th>tip_amount</th>\n",
       "      <th>tolls_amount</th>\n",
       "      <th>improvement_surcharge</th>\n",
       "      <th>total_amount</th>\n",
       "      <th>congestion_surcharge</th>\n",
       "      <th>trip_distance</th>\n",
       "      <th>passenger_count</th>\n",
       "    </tr>\n",
       "  </thead>\n",
       "  <tbody>\n",
       "    <tr>\n",
       "      <th>count</th>\n",
       "      <td>4.445914e+07</td>\n",
       "      <td>4.445914e+07</td>\n",
       "      <td>4.445914e+07</td>\n",
       "      <td>4.445914e+07</td>\n",
       "      <td>4.445914e+07</td>\n",
       "      <td>4.445914e+07</td>\n",
       "      <td>4.445914e+07</td>\n",
       "      <td>3.960316e+07</td>\n",
       "      <td>4.445914e+07</td>\n",
       "      <td>4.445914e+07</td>\n",
       "    </tr>\n",
       "    <tr>\n",
       "      <th>mean</th>\n",
       "      <td>1.043571e+01</td>\n",
       "      <td>9.778316e-01</td>\n",
       "      <td>1.887021e-01</td>\n",
       "      <td>1.888245e+00</td>\n",
       "      <td>3.679373e-01</td>\n",
       "      <td>1.886813e-01</td>\n",
       "      <td>1.415050e+01</td>\n",
       "      <td>1.694533e+00</td>\n",
       "      <td>2.355626e+00</td>\n",
       "      <td>1.570669e+00</td>\n",
       "    </tr>\n",
       "    <tr>\n",
       "      <th>std</th>\n",
       "      <td>2.226261e+02</td>\n",
       "      <td>1.164218e+00</td>\n",
       "      <td>2.213706e-01</td>\n",
       "      <td>2.129703e+01</td>\n",
       "      <td>1.738444e+00</td>\n",
       "      <td>7.856438e-02</td>\n",
       "      <td>2.367114e+02</td>\n",
       "      <td>7.533320e-01</td>\n",
       "      <td>7.835433e+00</td>\n",
       "      <td>1.222896e+00</td>\n",
       "    </tr>\n",
       "    <tr>\n",
       "      <th>min</th>\n",
       "      <td>-4.500800e+02</td>\n",
       "      <td>-6.000000e+01</td>\n",
       "      <td>-5.000000e-01</td>\n",
       "      <td>-8.989000e+01</td>\n",
       "      <td>-7.000000e+01</td>\n",
       "      <td>-3.000000e-01</td>\n",
       "      <td>-4.508800e+02</td>\n",
       "      <td>-2.500000e+00</td>\n",
       "      <td>0.000000e+00</td>\n",
       "      <td>0.000000e+00</td>\n",
       "    </tr>\n",
       "    <tr>\n",
       "      <th>25%</th>\n",
       "      <td>6.500000e+00</td>\n",
       "      <td>0.000000e+00</td>\n",
       "      <td>5.000000e-01</td>\n",
       "      <td>0.000000e+00</td>\n",
       "      <td>0.000000e+00</td>\n",
       "      <td>3.000000e-01</td>\n",
       "      <td>1.080000e+01</td>\n",
       "      <td>2.500000e+00</td>\n",
       "      <td>9.700000e-01</td>\n",
       "      <td>1.000000e+00</td>\n",
       "    </tr>\n",
       "    <tr>\n",
       "      <th>50%</th>\n",
       "      <td>9.500000e+00</td>\n",
       "      <td>5.000000e-01</td>\n",
       "      <td>5.000000e-01</td>\n",
       "      <td>1.800000e+00</td>\n",
       "      <td>0.000000e+00</td>\n",
       "      <td>3.000000e-01</td>\n",
       "      <td>1.416000e+01</td>\n",
       "      <td>2.500000e+00</td>\n",
       "      <td>1.600000e+00</td>\n",
       "      <td>1.000000e+00</td>\n",
       "    </tr>\n",
       "    <tr>\n",
       "      <th>75%</th>\n",
       "      <td>1.450000e+01</td>\n",
       "      <td>2.500000e+00</td>\n",
       "      <td>5.000000e-01</td>\n",
       "      <td>2.860000e+00</td>\n",
       "      <td>0.000000e+00</td>\n",
       "      <td>3.000000e-01</td>\n",
       "      <td>2.015000e+01</td>\n",
       "      <td>2.500000e+00</td>\n",
       "      <td>3.000000e+00</td>\n",
       "      <td>2.000000e+00</td>\n",
       "    </tr>\n",
       "    <tr>\n",
       "      <th>max</th>\n",
       "      <td>9.432748e+05</td>\n",
       "      <td>5.353800e+02</td>\n",
       "      <td>2.124200e+02</td>\n",
       "      <td>1.414920e+05</td>\n",
       "      <td>3.288000e+03</td>\n",
       "      <td>1.000000e+00</td>\n",
       "      <td>1.084772e+06</td>\n",
       "      <td>4.500000e+00</td>\n",
       "      <td>4.597722e+04</td>\n",
       "      <td>9.000000e+00</td>\n",
       "    </tr>\n",
       "  </tbody>\n",
       "</table>\n",
       "</div>"
      ],
      "text/plain": [
       "        fare_amount         extra       mta_tax    tip_amount  tolls_amount  \\\n",
       "count  4.445914e+07  4.445914e+07  4.445914e+07  4.445914e+07  4.445914e+07   \n",
       "mean   1.043571e+01  9.778316e-01  1.887021e-01  1.888245e+00  3.679373e-01   \n",
       "std    2.226261e+02  1.164218e+00  2.213706e-01  2.129703e+01  1.738444e+00   \n",
       "min   -4.500800e+02 -6.000000e+01 -5.000000e-01 -8.989000e+01 -7.000000e+01   \n",
       "25%    6.500000e+00  0.000000e+00  5.000000e-01  0.000000e+00  0.000000e+00   \n",
       "50%    9.500000e+00  5.000000e-01  5.000000e-01  1.800000e+00  0.000000e+00   \n",
       "75%    1.450000e+01  2.500000e+00  5.000000e-01  2.860000e+00  0.000000e+00   \n",
       "max    9.432748e+05  5.353800e+02  2.124200e+02  1.414920e+05  3.288000e+03   \n",
       "\n",
       "       improvement_surcharge  total_amount  congestion_surcharge  \\\n",
       "count           4.445914e+07  4.445914e+07          3.960316e+07   \n",
       "mean            1.886813e-01  1.415050e+01          1.694533e+00   \n",
       "std             7.856438e-02  2.367114e+02          7.533320e-01   \n",
       "min            -3.000000e-01 -4.508800e+02         -2.500000e+00   \n",
       "25%             3.000000e-01  1.080000e+01          2.500000e+00   \n",
       "50%             3.000000e-01  1.416000e+01          2.500000e+00   \n",
       "75%             3.000000e-01  2.015000e+01          2.500000e+00   \n",
       "max             1.000000e+00  1.084772e+06          4.500000e+00   \n",
       "\n",
       "       trip_distance  passenger_count  \n",
       "count   4.445914e+07     4.445914e+07  \n",
       "mean    2.355626e+00     1.570669e+00  \n",
       "std     7.835433e+00     1.222896e+00  \n",
       "min     0.000000e+00     0.000000e+00  \n",
       "25%     9.700000e-01     1.000000e+00  \n",
       "50%     1.600000e+00     1.000000e+00  \n",
       "75%     3.000000e+00     2.000000e+00  \n",
       "max     4.597722e+04     9.000000e+00  "
      ]
     },
     "execution_count": 19,
     "metadata": {},
     "output_type": "execute_result"
    }
   ],
   "source": [
    "data2019[['fare_amount', 'extra', 'mta_tax', 'tip_amount', 'tolls_amount', 'improvement_surcharge', \\\n",
    "          'total_amount', 'congestion_surcharge', 'trip_distance', 'passenger_count',]].describe()"
   ]
  },
  {
   "cell_type": "code",
   "execution_count": 20,
   "metadata": {},
   "outputs": [
    {
     "data": {
      "text/html": [
       "<div>\n",
       "<style>\n",
       "    .dataframe thead tr:only-child th {\n",
       "        text-align: right;\n",
       "    }\n",
       "\n",
       "    .dataframe thead th {\n",
       "        text-align: left;\n",
       "    }\n",
       "\n",
       "    .dataframe tbody tr th {\n",
       "        vertical-align: top;\n",
       "    }\n",
       "</style>\n",
       "<table border=\"1\" class=\"dataframe\">\n",
       "  <thead>\n",
       "    <tr style=\"text-align: right;\">\n",
       "      <th></th>\n",
       "      <th>fare_amount</th>\n",
       "      <th>extra</th>\n",
       "      <th>mta_tax</th>\n",
       "      <th>tip_amount</th>\n",
       "      <th>tolls_amount</th>\n",
       "      <th>improvement_surcharge</th>\n",
       "      <th>total_amount</th>\n",
       "      <th>congestion_surcharge</th>\n",
       "      <th>trip_distance</th>\n",
       "      <th>passenger_count</th>\n",
       "    </tr>\n",
       "  </thead>\n",
       "  <tbody>\n",
       "    <tr>\n",
       "      <th>count</th>\n",
       "      <td>1.684778e+07</td>\n",
       "      <td>1.684778e+07</td>\n",
       "      <td>1.684778e+07</td>\n",
       "      <td>1.684778e+07</td>\n",
       "      <td>1.684778e+07</td>\n",
       "      <td>1.684778e+07</td>\n",
       "      <td>1.684778e+07</td>\n",
       "      <td>1.684778e+07</td>\n",
       "      <td>1.684778e+07</td>\n",
       "      <td>1.656690e+07</td>\n",
       "    </tr>\n",
       "    <tr>\n",
       "      <th>mean</th>\n",
       "      <td>1.254642e+01</td>\n",
       "      <td>1.051401e+00</td>\n",
       "      <td>4.979066e-01</td>\n",
       "      <td>2.152633e+00</td>\n",
       "      <td>3.301388e-01</td>\n",
       "      <td>2.710712e-01</td>\n",
       "      <td>1.843700e+01</td>\n",
       "      <td>1.900231e+00</td>\n",
       "      <td>2.984016e+00</td>\n",
       "      <td>1.289111e+00</td>\n",
       "    </tr>\n",
       "    <tr>\n",
       "      <th>std</th>\n",
       "      <td>1.944050e+02</td>\n",
       "      <td>1.218201e+02</td>\n",
       "      <td>1.218144e+02</td>\n",
       "      <td>2.740509e+00</td>\n",
       "      <td>1.670157e+00</td>\n",
       "      <td>3.980464e-02</td>\n",
       "      <td>3.117717e+02</td>\n",
       "      <td>8.147768e-01</td>\n",
       "      <td>1.679257e+02</td>\n",
       "      <td>1.134579e+00</td>\n",
       "    </tr>\n",
       "    <tr>\n",
       "      <th>min</th>\n",
       "      <td>-1.259000e+03</td>\n",
       "      <td>-2.700000e+01</td>\n",
       "      <td>-5.000000e-01</td>\n",
       "      <td>-4.932200e+02</td>\n",
       "      <td>-4.000000e+01</td>\n",
       "      <td>-3.000000e-01</td>\n",
       "      <td>-1.260300e+03</td>\n",
       "      <td>-2.500000e+00</td>\n",
       "      <td>-3.062000e+01</td>\n",
       "      <td>0.000000e+00</td>\n",
       "    </tr>\n",
       "    <tr>\n",
       "      <th>25%</th>\n",
       "      <td>6.500000e+00</td>\n",
       "      <td>0.000000e+00</td>\n",
       "      <td>5.000000e-01</td>\n",
       "      <td>0.000000e+00</td>\n",
       "      <td>0.000000e+00</td>\n",
       "      <td>3.000000e-01</td>\n",
       "      <td>1.116000e+01</td>\n",
       "      <td>2.500000e+00</td>\n",
       "      <td>9.700000e-01</td>\n",
       "      <td>1.000000e+00</td>\n",
       "    </tr>\n",
       "    <tr>\n",
       "      <th>50%</th>\n",
       "      <td>9.000000e+00</td>\n",
       "      <td>5.000000e-01</td>\n",
       "      <td>5.000000e-01</td>\n",
       "      <td>1.920000e+00</td>\n",
       "      <td>0.000000e+00</td>\n",
       "      <td>3.000000e-01</td>\n",
       "      <td>1.430000e+01</td>\n",
       "      <td>2.500000e+00</td>\n",
       "      <td>1.610000e+00</td>\n",
       "      <td>1.000000e+00</td>\n",
       "    </tr>\n",
       "    <tr>\n",
       "      <th>75%</th>\n",
       "      <td>1.400000e+01</td>\n",
       "      <td>2.500000e+00</td>\n",
       "      <td>5.000000e-01</td>\n",
       "      <td>2.860000e+00</td>\n",
       "      <td>0.000000e+00</td>\n",
       "      <td>3.000000e-01</td>\n",
       "      <td>2.000000e+01</td>\n",
       "      <td>2.500000e+00</td>\n",
       "      <td>3.000000e+00</td>\n",
       "      <td>2.000000e+00</td>\n",
       "    </tr>\n",
       "    <tr>\n",
       "      <th>max</th>\n",
       "      <td>6.711001e+05</td>\n",
       "      <td>5.000008e+05</td>\n",
       "      <td>5.000005e+05</td>\n",
       "      <td>1.100000e+03</td>\n",
       "      <td>9.255000e+02</td>\n",
       "      <td>3.000000e-01</td>\n",
       "      <td>1.000004e+06</td>\n",
       "      <td>2.750000e+00</td>\n",
       "      <td>2.970045e+05</td>\n",
       "      <td>9.000000e+00</td>\n",
       "    </tr>\n",
       "  </tbody>\n",
       "</table>\n",
       "</div>"
      ],
      "text/plain": [
       "        fare_amount         extra       mta_tax    tip_amount  tolls_amount  \\\n",
       "count  1.684778e+07  1.684778e+07  1.684778e+07  1.684778e+07  1.684778e+07   \n",
       "mean   1.254642e+01  1.051401e+00  4.979066e-01  2.152633e+00  3.301388e-01   \n",
       "std    1.944050e+02  1.218201e+02  1.218144e+02  2.740509e+00  1.670157e+00   \n",
       "min   -1.259000e+03 -2.700000e+01 -5.000000e-01 -4.932200e+02 -4.000000e+01   \n",
       "25%    6.500000e+00  0.000000e+00  5.000000e-01  0.000000e+00  0.000000e+00   \n",
       "50%    9.000000e+00  5.000000e-01  5.000000e-01  1.920000e+00  0.000000e+00   \n",
       "75%    1.400000e+01  2.500000e+00  5.000000e-01  2.860000e+00  0.000000e+00   \n",
       "max    6.711001e+05  5.000008e+05  5.000005e+05  1.100000e+03  9.255000e+02   \n",
       "\n",
       "       improvement_surcharge  total_amount  congestion_surcharge  \\\n",
       "count           1.684778e+07  1.684778e+07          1.684778e+07   \n",
       "mean            2.710712e-01  1.843700e+01          1.900231e+00   \n",
       "std             3.980464e-02  3.117717e+02          8.147768e-01   \n",
       "min            -3.000000e-01 -1.260300e+03         -2.500000e+00   \n",
       "25%             3.000000e-01  1.116000e+01          2.500000e+00   \n",
       "50%             3.000000e-01  1.430000e+01          2.500000e+00   \n",
       "75%             3.000000e-01  2.000000e+01          2.500000e+00   \n",
       "max             3.000000e-01  1.000004e+06          2.750000e+00   \n",
       "\n",
       "       trip_distance  passenger_count  \n",
       "count   1.684778e+07     1.656690e+07  \n",
       "mean    2.984016e+00     1.289111e+00  \n",
       "std     1.679257e+02     1.134579e+00  \n",
       "min    -3.062000e+01     0.000000e+00  \n",
       "25%     9.700000e-01     1.000000e+00  \n",
       "50%     1.610000e+00     1.000000e+00  \n",
       "75%     3.000000e+00     2.000000e+00  \n",
       "max     2.970045e+05     9.000000e+00  "
      ]
     },
     "execution_count": 20,
     "metadata": {},
     "output_type": "execute_result"
    }
   ],
   "source": [
    "data2020[['fare_amount', 'extra', 'mta_tax', 'tip_amount', 'tolls_amount', 'improvement_surcharge', \\\n",
    "          'total_amount', 'congestion_surcharge', 'trip_distance', 'passenger_count', ]].describe()"
   ]
  },
  {
   "cell_type": "markdown",
   "metadata": {},
   "source": [
    "#### Summary of findings\n",
    "The 'fare_amount', 'tip_amount', and 'congestion_surchange' are the three most important parts in 'total_amount'. I will focus my analysis on these columns."
   ]
  },
  {
   "cell_type": "code",
   "execution_count": 18,
   "metadata": {
    "collapsed": true
   },
   "outputs": [],
   "source": [
    "import matplotlib.pyplot as plt"
   ]
  },
  {
   "cell_type": "code",
   "execution_count": 19,
   "metadata": {
    "collapsed": true
   },
   "outputs": [],
   "source": [
    "%matplotlib inline"
   ]
  },
  {
   "cell_type": "code",
   "execution_count": 20,
   "metadata": {
    "collapsed": true
   },
   "outputs": [],
   "source": [
    "data2019['YYYYMM']=data2019['pick_date'].astype(str).apply(lambda x: x[0:6]).astype(int)\n",
    "data2020['YYYYMM']=data2020['pick_date'].astype(str).apply(lambda x: x[0:6]).astype(int)"
   ]
  },
  {
   "cell_type": "code",
   "execution_count": 21,
   "metadata": {
    "collapsed": true
   },
   "outputs": [],
   "source": [
    "data2020=data2020[(data2020['YYYYMM']>201912) & (data2020['YYYYMM']<202007)]\n",
    "data2019=data2019[(data2019['YYYYMM']>201812)]"
   ]
  },
  {
   "cell_type": "code",
   "execution_count": 22,
   "metadata": {
    "scrolled": true
   },
   "outputs": [],
   "source": [
    "size2019=data2019[(data2019['YYYYMM']<201907)].groupby('YYYYMM')['fare_amount'].sum().reset_index()\n",
    "size2020=data2020.groupby('YYYYMM')['fare_amount'].sum().reset_index()"
   ]
  },
  {
   "cell_type": "code",
   "execution_count": 23,
   "metadata": {
    "collapsed": true,
    "scrolled": true
   },
   "outputs": [],
   "source": [
    "meanfare2019=data2019[(data2019['YYYYMM']<201907)].groupby('YYYYMM')['fare_amount'].mean().reset_index()\n",
    "meanfare2020=data2020.groupby('YYYYMM')['fare_amount'].mean().reset_index()"
   ]
  },
  {
   "cell_type": "code",
   "execution_count": 27,
   "metadata": {
    "scrolled": true
   },
   "outputs": [],
   "source": [
    "tip2019=data2019[(data2019['YYYYMM']<201907)].groupby('YYYYMM')['tip_amount'].mean().reset_index()\n",
    "tip2020=data2020.groupby('YYYYMM')['tip_amount'].mean().reset_index()"
   ]
  },
  {
   "cell_type": "code",
   "execution_count": 45,
   "metadata": {
    "collapsed": true,
    "scrolled": true
   },
   "outputs": [],
   "source": [
    "total2019=data2019[(data2019['YYYYMM']<201907)].groupby('YYYYMM')['total_amount'].sum().reset_index()\n",
    "total2020=data2020.groupby('YYYYMM')['total_amount'].sum().reset_index()"
   ]
  },
  {
   "cell_type": "code",
   "execution_count": 28,
   "metadata": {
    "collapsed": true,
    "scrolled": true
   },
   "outputs": [],
   "source": [
    "congestion2019=data2019[(data2019['YYYYMM']<201907)].groupby('YYYYMM')['congestion_surcharge'].mean().reset_index()\n",
    "congestion2020=data2020.groupby('YYYYMM')['congestion_surcharge'].mean().reset_index()"
   ]
  },
  {
   "cell_type": "code",
   "execution_count": 29,
   "metadata": {
    "collapsed": true,
    "scrolled": true
   },
   "outputs": [],
   "source": [
    "distance2019=data2019[(data2019['YYYYMM']<201907)].groupby('YYYYMM')['trip_distance'].mean().reset_index()\n",
    "distance2020=data2020.groupby('YYYYMM')['trip_distance'].mean().reset_index()"
   ]
  },
  {
   "cell_type": "code",
   "execution_count": 30,
   "metadata": {
    "scrolled": true
   },
   "outputs": [],
   "source": [
    "ppl2019=data2019[(data2019['YYYYMM']<201907)].groupby('YYYYMM')['passenger_count'].mean().reset_index()\n",
    "ppl2020=data2020.groupby('YYYYMM')['passenger_count'].mean().reset_index()"
   ]
  },
  {
   "cell_type": "code",
   "execution_count": 31,
   "metadata": {},
   "outputs": [
    {
     "data": {
      "text/plain": [
       "112"
      ]
     },
     "execution_count": 31,
     "metadata": {},
     "output_type": "execute_result"
    }
   ],
   "source": [
    "gc.collect()"
   ]
  },
  {
   "cell_type": "markdown",
   "metadata": {},
   "source": [
    "### Comparing fare amount"
   ]
  },
  {
   "cell_type": "code",
   "execution_count": 33,
   "metadata": {},
   "outputs": [
    {
     "data": {
      "text/plain": [
       "Text(0.5,1,'Histogram of fare volume pre and post Covid-19')"
      ]
     },
     "execution_count": 33,
     "metadata": {},
     "output_type": "execute_result"
    },
    {
     "data": {
      "image/png": "[encoded data removed]",
      "text/plain": [
       "<matplotlib.figure.Figure at 0x1b3d800d898>"
      ]
     },
     "metadata": {},
     "output_type": "display_data"
    }
   ],
   "source": [
    "fig = plt.figure()\n",
    "plt.hist(data2019[(data2019['YYYYMM']<201907) & (data2019['YYYYMM']>=201904) & (data2019['fare_amount']<=100) & (data2019['fare_amount']>=0)]['fare_amount'], 50, color='g', label='2019', normed=True)\n",
    "plt.hist(data2020[(data2020['YYYYMM']<202007) & (data2020['YYYYMM']>=202004) & (data2020['fare_amount']<=100) & (data2020['fare_amount']>=0)]['fare_amount'], 50, color='b', label='2020', normed=True)\n",
    "plt.legend()\n",
    "plt.title('Histogram of fare volume pre and post Covid-19')"
   ]
  },
  {
   "cell_type": "code",
   "execution_count": 34,
   "metadata": {
    "scrolled": true
   },
   "outputs": [
    {
     "data": {
      "text/plain": [
       "<matplotlib.legend.Legend at 0x1b3d57c5e48>"
      ]
     },
     "execution_count": 34,
     "metadata": {},
     "output_type": "execute_result"
    },
    {
     "data": {
      "image/png": "[encoded data removed]",
      "text/plain": [
       "<matplotlib.figure.Figure at 0x1b38678df28>"
      ]
     },
     "metadata": {},
     "output_type": "display_data"
    }
   ],
   "source": [
    "fig = plt.figure()\n",
    "plt.plot(size2019.index, size2019['fare_amount'], 'g', label='2019', linewidth=2)\n",
    "plt.plot(size2020.index, size2020['fare_amount'], 'b', label='2020', linewidth=2)\n",
    "plt.title('Taxi transaction fare volume pre and post Covid-19')\n",
    "plt.xticks(np.arange(6), ['Jan', 'Feb', 'Mar', 'Apr', 'May', 'Jun'])\n",
    "plt.ylabel('Volume')\n",
    "plt.xlabel('Time')\n",
    "plt.legend()"
   ]
  },
  {
   "cell_type": "markdown",
   "metadata": {},
   "source": [
    "Summary: The distribution of the fare amount in 2019Q2 and 2020Q2 are quite similar. In 2019, the distribution of the fare amount has a little spike around 53-55 while in 2020, the spike around 53-55 is less prominent.\n",
    "The parallel trend in Jan and Feb shows that we may use the DID model quantitatively estimate the impact of Covid-19 on the fare volume of the yellow cab. I will run a DID to quantify the impact. The control group is the yellow cab transaction in 2019Q1 and 2019Q2. Note that the parallel trend assumption can be more rigorously tested using data in previous years. The estimation of Covid-19 impact can be more accurately estimated using observations in previous years. The following DID regression is a Demo of what I plan to do. Due to the capacity of Computer RAM and time limit, I will not extend to the full version of model estimate.\n"
   ]
  },
  {
   "cell_type": "markdown",
   "metadata": {},
   "source": [
    "### Constructing DID dataset"
   ]
  },
  {
   "cell_type": "code",
   "execution_count": 35,
   "metadata": {},
   "outputs": [],
   "source": [
    "size2019['is_2020']=0\n",
    "size2019['month']=1+size2019.index\n",
    "size2020['is_2020']=1\n",
    "size2020['month']=1+size2020.index"
   ]
  },
  {
   "cell_type": "code",
   "execution_count": 36,
   "metadata": {
    "collapsed": true
   },
   "outputs": [],
   "source": [
    "diddata=pd.concat([size2019, size2020])\n",
    "diddata=pd.get_dummies(diddata, columns=['month'])\n",
    "diddata['is_covid']=1*(diddata['YYYYMM']>=202003)"
   ]
  },
  {
   "cell_type": "code",
   "execution_count": 37,
   "metadata": {
    "collapsed": true
   },
   "outputs": [],
   "source": [
    "diddata['intercept']=1"
   ]
  },
  {
   "cell_type": "code",
   "execution_count": 38,
   "metadata": {
    "scrolled": true
   },
   "outputs": [
    {
     "name": "stderr",
     "output_type": "stream",
     "text": [
      "C:\\Users\\esper\\Anaconda3\\lib\\site-packages\\statsmodels\\compat\\pandas.py:56: FutureWarning: The pandas.core.datetools module is deprecated and will be removed in a future version. Please use the pandas.tseries module instead.\n",
      "  from pandas.core import datetools\n"
     ]
    }
   ],
   "source": [
    "import statsmodels.api as sm"
   ]
  },
  {
   "cell_type": "markdown",
   "metadata": {},
   "source": [
    "The DID regression equation is:\n",
    "\n",
    "$y = \\alpha + \\beta_{0}\\times is2020 + \\beta_{1}\\times month1 + \\beta_{2}\\times month2 + \\beta_{3}\\times month3 + \\beta_{4}\\times month4 + \\beta_{5}\\times month5 + \\gamma \\times isCovid$\n",
    "\n",
    "Here, $\\gamma$ is the estimate of the Covid-19 impact."
   ]
  },
  {
   "cell_type": "code",
   "execution_count": 39,
   "metadata": {
    "collapsed": true
   },
   "outputs": [],
   "source": [
    "mod1 = sm.OLS(diddata['fare_amount'], diddata[['intercept', 'is_2020', 'month_1', 'month_2',\n",
    "       'month_3', 'month_4', 'month_5', 'is_covid']])"
   ]
  },
  {
   "cell_type": "code",
   "execution_count": 40,
   "metadata": {
    "scrolled": true
   },
   "outputs": [
    {
     "name": "stderr",
     "output_type": "stream",
     "text": [
      "C:\\Users\\esper\\Anaconda3\\lib\\site-packages\\scipy\\stats\\stats.py:1334: UserWarning: kurtosistest only valid for n>=20 ... continuing anyway, n=12\n",
      "  \"anyway, n=%i\" % int(n))\n"
     ]
    },
    {
     "data": {
      "text/html": [
       "<table class=\"simpletable\">\n",
       "<caption>OLS Regression Results</caption>\n",
       "<tr>\n",
       "  <th>Dep. Variable:</th>       <td>fare_amount</td>   <th>  R-squared:         </th> <td>   0.982</td>\n",
       "</tr>\n",
       "<tr>\n",
       "  <th>Model:</th>                   <td>OLS</td>       <th>  Adj. R-squared:    </th> <td>   0.951</td>\n",
       "</tr>\n",
       "<tr>\n",
       "  <th>Method:</th>             <td>Least Squares</td>  <th>  F-statistic:       </th> <td>   31.73</td>\n",
       "</tr>\n",
       "<tr>\n",
       "  <th>Date:</th>             <td>Mon, 14 Sep 2020</td> <th>  Prob (F-statistic):</th>  <td>0.00239</td>\n",
       "</tr>\n",
       "<tr>\n",
       "  <th>Time:</th>                 <td>15:31:56</td>     <th>  Log-Likelihood:    </th> <td> -202.56</td>\n",
       "</tr>\n",
       "<tr>\n",
       "  <th>No. Observations:</th>      <td>    12</td>      <th>  AIC:               </th> <td>   421.1</td>\n",
       "</tr>\n",
       "<tr>\n",
       "  <th>Df Residuals:</th>          <td>     4</td>      <th>  BIC:               </th> <td>   425.0</td>\n",
       "</tr>\n",
       "<tr>\n",
       "  <th>Df Model:</th>              <td>     7</td>      <th>                     </th>     <td> </td>   \n",
       "</tr>\n",
       "<tr>\n",
       "  <th>Covariance Type:</th>      <td>nonrobust</td>    <th>                     </th>     <td> </td>   \n",
       "</tr>\n",
       "</table>\n",
       "<table class=\"simpletable\">\n",
       "<tr>\n",
       "      <td></td>         <th>coef</th>     <th>std err</th>      <th>t</th>      <th>P>|t|</th>  <th>[0.025</th>    <th>0.975]</th>  \n",
       "</tr>\n",
       "<tr>\n",
       "  <th>intercept</th> <td> 9.418e+07</td> <td>  7.1e+06</td> <td>   13.269</td> <td> 0.000</td> <td> 7.45e+07</td> <td> 1.14e+08</td>\n",
       "</tr>\n",
       "<tr>\n",
       "  <th>is_2020</th>   <td>-1.195e+07</td> <td> 8.98e+06</td> <td>   -1.331</td> <td> 0.254</td> <td>-3.69e+07</td> <td>  1.3e+07</td>\n",
       "</tr>\n",
       "<tr>\n",
       "  <th>month_1</th>   <td> 1.781e+04</td> <td> 1.05e+07</td> <td>    0.002</td> <td> 0.999</td> <td>-2.92e+07</td> <td> 2.92e+07</td>\n",
       "</tr>\n",
       "<tr>\n",
       "  <th>month_2</th>   <td>-3.764e+06</td> <td> 1.05e+07</td> <td>   -0.358</td> <td> 0.739</td> <td> -3.3e+07</td> <td> 2.55e+07</td>\n",
       "</tr>\n",
       "<tr>\n",
       "  <th>month_3</th>   <td> 1.954e+07</td> <td> 8.98e+06</td> <td>    2.177</td> <td> 0.095</td> <td>-5.39e+06</td> <td> 4.45e+07</td>\n",
       "</tr>\n",
       "<tr>\n",
       "  <th>month_4</th>   <td> -7.34e+05</td> <td> 8.98e+06</td> <td>   -0.082</td> <td> 0.939</td> <td>-2.57e+07</td> <td> 2.42e+07</td>\n",
       "</tr>\n",
       "<tr>\n",
       "  <th>month_5</th>   <td> 2.295e+06</td> <td> 8.98e+06</td> <td>    0.256</td> <td> 0.811</td> <td>-2.26e+07</td> <td> 2.72e+07</td>\n",
       "</tr>\n",
       "<tr>\n",
       "  <th>is_covid</th>  <td> -7.41e+07</td> <td>  1.1e+07</td> <td>   -6.739</td> <td> 0.003</td> <td>-1.05e+08</td> <td>-4.36e+07</td>\n",
       "</tr>\n",
       "</table>\n",
       "<table class=\"simpletable\">\n",
       "<tr>\n",
       "  <th>Omnibus:</th>       <td> 0.759</td> <th>  Durbin-Watson:     </th> <td>   2.148</td>\n",
       "</tr>\n",
       "<tr>\n",
       "  <th>Prob(Omnibus):</th> <td> 0.684</td> <th>  Jarque-Bera (JB):  </th> <td>   0.004</td>\n",
       "</tr>\n",
       "<tr>\n",
       "  <th>Skew:</th>          <td>-0.000</td> <th>  Prob(JB):          </th> <td>   0.998</td>\n",
       "</tr>\n",
       "<tr>\n",
       "  <th>Kurtosis:</th>      <td> 3.087</td> <th>  Cond. No.          </th> <td>    9.17</td>\n",
       "</tr>\n",
       "</table>"
      ],
      "text/plain": [
       "<class 'statsmodels.iolib.summary.Summary'>\n",
       "\"\"\"\n",
       "                            OLS Regression Results                            \n",
       "==============================================================================\n",
       "Dep. Variable:            fare_amount   R-squared:                       0.982\n",
       "Model:                            OLS   Adj. R-squared:                  0.951\n",
       "Method:                 Least Squares   F-statistic:                     31.73\n",
       "Date:                Mon, 14 Sep 2020   Prob (F-statistic):            0.00239\n",
       "Time:                        15:31:56   Log-Likelihood:                -202.56\n",
       "No. Observations:                  12   AIC:                             421.1\n",
       "Df Residuals:                       4   BIC:                             425.0\n",
       "Df Model:                           7                                         \n",
       "Covariance Type:            nonrobust                                         \n",
       "==============================================================================\n",
       "                 coef    std err          t      P>|t|      [0.025      0.975]\n",
       "------------------------------------------------------------------------------\n",
       "intercept   9.418e+07    7.1e+06     13.269      0.000    7.45e+07    1.14e+08\n",
       "is_2020    -1.195e+07   8.98e+06     -1.331      0.254   -3.69e+07     1.3e+07\n",
       "month_1     1.781e+04   1.05e+07      0.002      0.999   -2.92e+07    2.92e+07\n",
       "month_2    -3.764e+06   1.05e+07     -0.358      0.739    -3.3e+07    2.55e+07\n",
       "month_3     1.954e+07   8.98e+06      2.177      0.095   -5.39e+06    4.45e+07\n",
       "month_4     -7.34e+05   8.98e+06     -0.082      0.939   -2.57e+07    2.42e+07\n",
       "month_5     2.295e+06   8.98e+06      0.256      0.811   -2.26e+07    2.72e+07\n",
       "is_covid    -7.41e+07    1.1e+07     -6.739      0.003   -1.05e+08   -4.36e+07\n",
       "==============================================================================\n",
       "Omnibus:                        0.759   Durbin-Watson:                   2.148\n",
       "Prob(Omnibus):                  0.684   Jarque-Bera (JB):                0.004\n",
       "Skew:                          -0.000   Prob(JB):                        0.998\n",
       "Kurtosis:                       3.087   Cond. No.                         9.17\n",
       "==============================================================================\n",
       "\n",
       "Warnings:\n",
       "[1] Standard Errors assume that the covariance matrix of the errors is correctly specified.\n",
       "\"\"\""
      ]
     },
     "execution_count": 40,
     "metadata": {},
     "output_type": "execute_result"
    }
   ],
   "source": [
    "mod1.fit().summary()"
   ]
  },
  {
   "cell_type": "markdown",
   "metadata": {},
   "source": [
    "Summary: The 'is_covid' variable shows that the Covid impact on the monthly market fare volume in the yellow taxi industry is about -74.1 million. \n",
    "Considering removing the observations in March since the New York City shuts down in the middle of March and reestimating the DID model."
   ]
  },
  {
   "cell_type": "code",
   "execution_count": 41,
   "metadata": {
    "collapsed": true
   },
   "outputs": [],
   "source": [
    "mod2 = sm.OLS(diddata[diddata['month_3']!=1]['fare_amount'],diddata[diddata['month_3']!=1][['intercept', 'is_2020', 'month_1', 'month_2',\n",
    "        'month_4', 'month_5', 'is_covid']])"
   ]
  },
  {
   "cell_type": "code",
   "execution_count": 42,
   "metadata": {
    "scrolled": true
   },
   "outputs": [
    {
     "name": "stderr",
     "output_type": "stream",
     "text": [
      "C:\\Users\\esper\\Anaconda3\\lib\\site-packages\\scipy\\stats\\stats.py:1334: UserWarning: kurtosistest only valid for n>=20 ... continuing anyway, n=10\n",
      "  \"anyway, n=%i\" % int(n))\n"
     ]
    },
    {
     "data": {
      "text/html": [
       "<table class=\"simpletable\">\n",
       "<caption>OLS Regression Results</caption>\n",
       "<tr>\n",
       "  <th>Dep. Variable:</th>       <td>fare_amount</td>   <th>  R-squared:         </th> <td>   0.998</td>\n",
       "</tr>\n",
       "<tr>\n",
       "  <th>Model:</th>                   <td>OLS</td>       <th>  Adj. R-squared:    </th> <td>   0.995</td>\n",
       "</tr>\n",
       "<tr>\n",
       "  <th>Method:</th>             <td>Least Squares</td>  <th>  F-statistic:       </th> <td>   283.7</td>\n",
       "</tr>\n",
       "<tr>\n",
       "  <th>Date:</th>             <td>Mon, 14 Sep 2020</td> <th>  Prob (F-statistic):</th> <td>0.000322</td>\n",
       "</tr>\n",
       "<tr>\n",
       "  <th>Time:</th>                 <td>15:32:08</td>     <th>  Log-Likelihood:    </th> <td> -157.54</td>\n",
       "</tr>\n",
       "<tr>\n",
       "  <th>No. Observations:</th>      <td>    10</td>      <th>  AIC:               </th> <td>   329.1</td>\n",
       "</tr>\n",
       "<tr>\n",
       "  <th>Df Residuals:</th>          <td>     3</td>      <th>  BIC:               </th> <td>   331.2</td>\n",
       "</tr>\n",
       "<tr>\n",
       "  <th>Df Model:</th>              <td>     6</td>      <th>                     </th>     <td> </td>   \n",
       "</tr>\n",
       "<tr>\n",
       "  <th>Covariance Type:</th>      <td>nonrobust</td>    <th>                     </th>     <td> </td>   \n",
       "</tr>\n",
       "</table>\n",
       "<table class=\"simpletable\">\n",
       "<tr>\n",
       "      <td></td>         <th>coef</th>     <th>std err</th>      <th>t</th>      <th>P>|t|</th>  <th>[0.025</th>    <th>0.975]</th>  \n",
       "</tr>\n",
       "<tr>\n",
       "  <th>intercept</th> <td> 9.768e+07</td> <td> 2.51e+06</td> <td>   38.977</td> <td> 0.000</td> <td> 8.97e+07</td> <td> 1.06e+08</td>\n",
       "</tr>\n",
       "<tr>\n",
       "  <th>is_2020</th>   <td>-1.195e+07</td> <td> 3.07e+06</td> <td>   -3.893</td> <td> 0.030</td> <td>-2.17e+07</td> <td>-2.18e+06</td>\n",
       "</tr>\n",
       "<tr>\n",
       "  <th>month_1</th>   <td>-3.483e+06</td> <td> 3.65e+06</td> <td>   -0.953</td> <td> 0.411</td> <td>-1.51e+07</td> <td> 8.14e+06</td>\n",
       "</tr>\n",
       "<tr>\n",
       "  <th>month_2</th>   <td>-7.265e+06</td> <td> 3.65e+06</td> <td>   -1.988</td> <td> 0.141</td> <td>-1.89e+07</td> <td> 4.36e+06</td>\n",
       "</tr>\n",
       "<tr>\n",
       "  <th>month_4</th>   <td> -7.34e+05</td> <td> 3.07e+06</td> <td>   -0.239</td> <td> 0.826</td> <td>-1.05e+07</td> <td> 9.03e+06</td>\n",
       "</tr>\n",
       "<tr>\n",
       "  <th>month_5</th>   <td> 2.295e+06</td> <td> 3.07e+06</td> <td>    0.748</td> <td> 0.509</td> <td>-7.47e+06</td> <td> 1.21e+07</td>\n",
       "</tr>\n",
       "<tr>\n",
       "  <th>is_covid</th>  <td> -8.11e+07</td> <td> 3.96e+06</td> <td>  -20.467</td> <td> 0.000</td> <td>-9.37e+07</td> <td>-6.85e+07</td>\n",
       "</tr>\n",
       "</table>\n",
       "<table class=\"simpletable\">\n",
       "<tr>\n",
       "  <th>Omnibus:</th>       <td> 0.408</td> <th>  Durbin-Watson:     </th> <td>   2.188</td>\n",
       "</tr>\n",
       "<tr>\n",
       "  <th>Prob(Omnibus):</th> <td> 0.815</td> <th>  Jarque-Bera (JB):  </th> <td>   0.463</td>\n",
       "</tr>\n",
       "<tr>\n",
       "  <th>Skew:</th>          <td> 0.000</td> <th>  Prob(JB):          </th> <td>   0.793</td>\n",
       "</tr>\n",
       "<tr>\n",
       "  <th>Kurtosis:</th>      <td> 1.946</td> <th>  Cond. No.          </th> <td>    8.28</td>\n",
       "</tr>\n",
       "</table>"
      ],
      "text/plain": [
       "<class 'statsmodels.iolib.summary.Summary'>\n",
       "\"\"\"\n",
       "                            OLS Regression Results                            \n",
       "==============================================================================\n",
       "Dep. Variable:            fare_amount   R-squared:                       0.998\n",
       "Model:                            OLS   Adj. R-squared:                  0.995\n",
       "Method:                 Least Squares   F-statistic:                     283.7\n",
       "Date:                Mon, 14 Sep 2020   Prob (F-statistic):           0.000322\n",
       "Time:                        15:32:08   Log-Likelihood:                -157.54\n",
       "No. Observations:                  10   AIC:                             329.1\n",
       "Df Residuals:                       3   BIC:                             331.2\n",
       "Df Model:                           6                                         \n",
       "Covariance Type:            nonrobust                                         \n",
       "==============================================================================\n",
       "                 coef    std err          t      P>|t|      [0.025      0.975]\n",
       "------------------------------------------------------------------------------\n",
       "intercept   9.768e+07   2.51e+06     38.977      0.000    8.97e+07    1.06e+08\n",
       "is_2020    -1.195e+07   3.07e+06     -3.893      0.030   -2.17e+07   -2.18e+06\n",
       "month_1    -3.483e+06   3.65e+06     -0.953      0.411   -1.51e+07    8.14e+06\n",
       "month_2    -7.265e+06   3.65e+06     -1.988      0.141   -1.89e+07    4.36e+06\n",
       "month_4     -7.34e+05   3.07e+06     -0.239      0.826   -1.05e+07    9.03e+06\n",
       "month_5     2.295e+06   3.07e+06      0.748      0.509   -7.47e+06    1.21e+07\n",
       "is_covid    -8.11e+07   3.96e+06    -20.467      0.000   -9.37e+07   -6.85e+07\n",
       "==============================================================================\n",
       "Omnibus:                        0.408   Durbin-Watson:                   2.188\n",
       "Prob(Omnibus):                  0.815   Jarque-Bera (JB):                0.463\n",
       "Skew:                           0.000   Prob(JB):                        0.793\n",
       "Kurtosis:                       1.946   Cond. No.                         8.28\n",
       "==============================================================================\n",
       "\n",
       "Warnings:\n",
       "[1] Standard Errors assume that the covariance matrix of the errors is correctly specified.\n",
       "\"\"\""
      ]
     },
     "execution_count": 42,
     "metadata": {},
     "output_type": "execute_result"
    }
   ],
   "source": [
    "mod2.fit().summary()"
   ]
  },
  {
   "cell_type": "markdown",
   "metadata": {},
   "source": [
    "Summary: The estimates is -81.1 million which is within one standard deviation of the previous estimates."
   ]
  },
  {
   "cell_type": "markdown",
   "metadata": {},
   "source": [
    "### Comparing total_amount"
   ]
  },
  {
   "cell_type": "code",
   "execution_count": 43,
   "metadata": {},
   "outputs": [
    {
     "data": {
      "text/plain": [
       "<matplotlib.legend.Legend at 0x1b3e509f710>"
      ]
     },
     "execution_count": 43,
     "metadata": {},
     "output_type": "execute_result"
    },
    {
     "data": {
      "image/png": "[encoded data removed]",
      "text/plain": [
       "<matplotlib.figure.Figure at 0x1b3e509f0b8>"
      ]
     },
     "metadata": {},
     "output_type": "display_data"
    }
   ],
   "source": [
    "fig = plt.figure()\n",
    "plt.hist(data2019[(data2019['YYYYMM']<201907) & (data2019['YYYYMM']>=201904) & (data2019['total_amount']<=100) & (data2019['total_amount']>=0)]['total_amount'], 50, color='g',label='2019',  normed=True)\n",
    "plt.hist(data2020[(data2020['YYYYMM']<202007) & (data2020['YYYYMM']>=202004) & (data2020['total_amount']<=100) & (data2020['total_amount']>=0)]['total_amount'], 50, color='b', label='2020', normed=True)\n",
    "plt.title('Histogram of total amount')\n",
    "plt.legend()"
   ]
  },
  {
   "cell_type": "code",
   "execution_count": 46,
   "metadata": {},
   "outputs": [
    {
     "data": {
      "text/plain": [
       "<matplotlib.legend.Legend at 0x1b3d95f7400>"
      ]
     },
     "execution_count": 46,
     "metadata": {},
     "output_type": "execute_result"
    },
    {
     "data": {
      "image/png": "[encoded data removed]",
      "text/plain": [
       "<matplotlib.figure.Figure at 0x1b384d7fcf8>"
      ]
     },
     "metadata": {},
     "output_type": "display_data"
    }
   ],
   "source": [
    "fig = plt.figure()\n",
    "plt.plot(total2019.index, total2019['total_amount'], 'g', label='2019', linewidth=2)\n",
    "plt.plot(total2020.index, total2020['total_amount'], 'b', label='2020', linewidth=2)\n",
    "plt.title('Taxi transaction total amount pre and post Covid-19')\n",
    "plt.xticks(np.arange(6), ['Jan', 'Feb', 'Mar', 'Apr', 'May', 'Jun'])\n",
    "plt.ylabel('Total amount')\n",
    "plt.xlabel('Time')\n",
    "plt.legend()"
   ]
  },
  {
   "cell_type": "code",
   "execution_count": 47,
   "metadata": {},
   "outputs": [
    {
     "data": {
      "text/plain": [
       "135548989.5"
      ]
     },
     "execution_count": 47,
     "metadata": {},
     "output_type": "execute_result"
    }
   ],
   "source": [
    "total2019[total2019['YYYYMM']>=201904]['total_amount'].mean()-total2020[total2020['YYYYMM']>=202004]['total_amount'].mean()"
   ]
  },
  {
   "cell_type": "markdown",
   "metadata": {},
   "source": [
    "Summary: Here the total amount in 2019 and 2020 does not seem to satisfy the parallel trend assumption. I am refrained from using the DID model to do the estimation. By computing the total monthly volume in 2019Q2 and 2020Q2, we can see that it has dropped by 135.55 million."
   ]
  },
  {
   "cell_type": "markdown",
   "metadata": {},
   "source": [
    "### Comparing tip amount"
   ]
  },
  {
   "cell_type": "code",
   "execution_count": 48,
   "metadata": {
    "scrolled": true
   },
   "outputs": [
    {
     "data": {
      "text/plain": [
       "Text(0.5,1,'Histogram of tip amount')"
      ]
     },
     "execution_count": 48,
     "metadata": {},
     "output_type": "execute_result"
    },
    {
     "data": {
      "image/png": "[encoded data removed]",
      "text/plain": [
       "<matplotlib.figure.Figure at 0x1b3d9623438>"
      ]
     },
     "metadata": {},
     "output_type": "display_data"
    }
   ],
   "source": [
    "# Histogram of total amount in 2020\n",
    "fig = plt.figure()\n",
    "plt.hist(data2019[(data2019['YYYYMM']<201907) & (data2019['YYYYMM']>=201904) & (data2019['tip_amount']<=50) & (data2019['tip_amount']>=0)]['tip_amount'], 50, color='g', label='2019', normed=True)\n",
    "plt.hist(data2020[(data2020['YYYYMM']<202007) & (data2020['YYYYMM']>=202004) & (data2020['tip_amount']<=50) & (data2020['tip_amount']>=0)]['tip_amount'], 50, color='b', label='2020',normed=True)\n",
    "plt.legend()\n",
    "plt.title('Histogram of tip amount')"
   ]
  },
  {
   "cell_type": "code",
   "execution_count": 49,
   "metadata": {
    "scrolled": true
   },
   "outputs": [
    {
     "data": {
      "text/plain": [
       "<matplotlib.legend.Legend at 0x1b3c0babf60>"
      ]
     },
     "execution_count": 49,
     "metadata": {},
     "output_type": "execute_result"
    },
    {
     "data": {
      "image/png": "[encoded data removed]",
      "text/plain": [
       "<matplotlib.figure.Figure at 0x1b3d95f7d30>"
      ]
     },
     "metadata": {},
     "output_type": "display_data"
    }
   ],
   "source": [
    "fig = plt.figure()\n",
    "plt.plot(tip2019.index, tip2019['tip_amount'], 'g', label='2019', linewidth=2)\n",
    "plt.plot(tip2020.index, tip2020['tip_amount'], 'b', label='2020', linewidth=2)\n",
    "plt.title('Taxi transaction tip amount pre and post Covid-19')\n",
    "plt.xticks(np.arange(6), ['Jan', 'Feb', 'Mar', 'Apr', 'May', 'Jun'])\n",
    "plt.ylabel('Mean tip')\n",
    "plt.xlabel('Time')\n",
    "plt.legend()"
   ]
  },
  {
   "cell_type": "code",
   "execution_count": 50,
   "metadata": {},
   "outputs": [
    {
     "data": {
      "text/plain": [
       "0.6408277750015259"
      ]
     },
     "execution_count": 50,
     "metadata": {},
     "output_type": "execute_result"
    }
   ],
   "source": [
    "data2019[(data2019['YYYYMM']<201907) & (data2019['YYYYMM']>=201904)]['tip_amount'].mean()-\\\n",
    "data2020[(data2020['YYYYMM']<202007) & (data2020['YYYYMM']>=202004)]['tip_amount'].mean()"
   ]
  },
  {
   "cell_type": "markdown",
   "metadata": {},
   "source": [
    "Summary: Here the average tip in 2019 and 2020 does not seem to satisfy the parallel trend assumption. I am refrained from using the DID model to do the estimation. By computing the average tip amount in 2019Q2 and 2020Q2 respectively, we can see that it has dropped by 0.64."
   ]
  },
  {
   "cell_type": "markdown",
   "metadata": {},
   "source": [
    "### Comparing congestion surcharge"
   ]
  },
  {
   "cell_type": "code",
   "execution_count": 51,
   "metadata": {},
   "outputs": [
    {
     "data": {
      "text/plain": [
       "Text(0.5,1,'Histogram of congestion surcharge')"
      ]
     },
     "execution_count": 51,
     "metadata": {},
     "output_type": "execute_result"
    },
    {
     "data": {
      "image/png": "[encoded data removed]",
      "text/plain": [
       "<matplotlib.figure.Figure at 0x1b3fb519208>"
      ]
     },
     "metadata": {},
     "output_type": "display_data"
    }
   ],
   "source": [
    "fig = plt.figure()\n",
    "plt.hist(data2019[(data2019['YYYYMM']<201907) & (data2019['YYYYMM']>=201904) & (data2019['congestion_surcharge']<=10) & (data2019['congestion_surcharge']>=0)]['congestion_surcharge'], 50, label='2019', color='g', normed=True)\n",
    "plt.hist(data2020[(data2020['YYYYMM']<202007) & (data2020['YYYYMM']>=202004) & (data2020['congestion_surcharge']<=10) & (data2020['congestion_surcharge']>=0)]['congestion_surcharge'], 50, label='2020', color='b', normed=True)\n",
    "plt.legend()\n",
    "plt.title('Histogram of congestion surcharge')"
   ]
  },
  {
   "cell_type": "code",
   "execution_count": 52,
   "metadata": {},
   "outputs": [
    {
     "data": {
      "text/plain": [
       "<matplotlib.legend.Legend at 0x1b3da634198>"
      ]
     },
     "execution_count": 52,
     "metadata": {},
     "output_type": "execute_result"
    },
    {
     "data": {
      "image/png": "[encoded data removed]",
      "text/plain": [
       "<matplotlib.figure.Figure at 0x1b3e3aced30>"
      ]
     },
     "metadata": {},
     "output_type": "display_data"
    }
   ],
   "source": [
    "fig = plt.figure()\n",
    "plt.plot(congestion2019.index, congestion2019['congestion_surcharge'], 'g', label='2019', linewidth=2)\n",
    "plt.plot(congestion2020.index, congestion2020['congestion_surcharge'], 'b', label='2020', linewidth=2)\n",
    "plt.title('Taxi transaction congestion pre and post Covid-19')\n",
    "plt.xticks(np.arange(6), ['Jan', 'Feb', 'Mar', 'Apr', 'May', 'Jun'])\n",
    "plt.ylabel('Mean congestion')\n",
    "plt.xlabel('Time')\n",
    "plt.legend()"
   ]
  },
  {
   "cell_type": "code",
   "execution_count": 53,
   "metadata": {},
   "outputs": [
    {
     "data": {
      "text/plain": [
       "0.35817086696624756"
      ]
     },
     "execution_count": 53,
     "metadata": {},
     "output_type": "execute_result"
    }
   ],
   "source": [
    "data2019[(data2019['YYYYMM']<201907) & (data2019['YYYYMM']>=201904)]['congestion_surcharge'].mean()-\\\n",
    "data2020[(data2020['YYYYMM']<202007) & (data2020['YYYYMM']>=202004)]['congestion_surcharge'].mean()"
   ]
  },
  {
   "cell_type": "markdown",
   "metadata": {},
   "source": [
    "Summary: Here the average tip in 2019 and 2020 does not seem to satisfy the parallel trend assumption. I am refrained from using the DID model to do the estimation. By computing the average congestion surcharge amount in 2019Q2 and 2020Q2, we can see that it has dropped by 0.36. This could due to that fewer taxis are passing through the congestion zone."
   ]
  },
  {
   "cell_type": "markdown",
   "metadata": {},
   "source": [
    "### Comparing travel distance"
   ]
  },
  {
   "cell_type": "code",
   "execution_count": 54,
   "metadata": {},
   "outputs": [
    {
     "data": {
      "text/plain": [
       "Text(0.5,1,'Histogram of travel distance')"
      ]
     },
     "execution_count": 54,
     "metadata": {},
     "output_type": "execute_result"
    },
    {
     "data": {
      "image/png": "[encoded data removed]",
      "text/plain": [
       "<matplotlib.figure.Figure at 0x1b3e8aa5d68>"
      ]
     },
     "metadata": {},
     "output_type": "display_data"
    }
   ],
   "source": [
    "fig = plt.figure()\n",
    "plt.hist(data2019[(data2019['YYYYMM']<201907) & (data2019['YYYYMM']>=201904) & (data2019['trip_distance']<=40) & (data2019['trip_distance']>=0)]['trip_distance'], 50, color='g', label='2019', normed=True)\n",
    "plt.hist(data2020[(data2020['YYYYMM']<202007) & (data2020['YYYYMM']>=202004) & (data2020['trip_distance']<=40) & (data2020['trip_distance']>=0)]['trip_distance'], 50, color='b', label='2020', normed=True)\n",
    "plt.legend()\n",
    "plt.title('Histogram of travel distance')"
   ]
  },
  {
   "cell_type": "code",
   "execution_count": 55,
   "metadata": {},
   "outputs": [
    {
     "data": {
      "text/plain": [
       "<matplotlib.legend.Legend at 0x1b387606be0>"
      ]
     },
     "execution_count": 55,
     "metadata": {},
     "output_type": "execute_result"
    },
    {
     "data": {
      "image/png": "[encoded data removed]",
      "text/plain": [
       "<matplotlib.figure.Figure at 0x1b3d95f2a20>"
      ]
     },
     "metadata": {},
     "output_type": "display_data"
    }
   ],
   "source": [
    "fig = plt.figure()\n",
    "plt.plot(distance2019.index, distance2019['trip_distance'], 'g', label='2019', linewidth=2)\n",
    "plt.plot(distance2020.index, distance2020['trip_distance'], 'b', label='2020', linewidth=2)\n",
    "plt.title('Taxi transaction travel distance pre and post Covid-19')\n",
    "plt.xticks(np.arange(6), ['Jan', 'Feb', 'Mar', 'Apr', 'May', 'Jun'])\n",
    "plt.ylabel('Mean distance')\n",
    "plt.xlabel('Time')\n",
    "plt.legend()"
   ]
  },
  {
   "cell_type": "code",
   "execution_count": 56,
   "metadata": {},
   "outputs": [
    {
     "data": {
      "text/plain": [
       "-2.5518085956573486"
      ]
     },
     "execution_count": 56,
     "metadata": {},
     "output_type": "execute_result"
    }
   ],
   "source": [
    "data2019[(data2019['YYYYMM']<201907) & (data2019['YYYYMM']>=201904)]['trip_distance'].mean()-\\\n",
    "data2020[(data2020['YYYYMM']<202007) & (data2020['YYYYMM']>=202004)]['trip_distance'].mean()"
   ]
  },
  {
   "cell_type": "markdown",
   "metadata": {},
   "source": [
    "Summary: Using the average travel distance per trip in Jan, Feb and March, we can see that there is not much difference between 2019 and 2020. However, post Covid-19, in Apr, May, and Jun, the average travel distance is much longer. This could due to that people tend to use taxi only when the travel distance is long. On average, post Covid-19, the average travel distance per trip has gone up by 2.55 miles.  "
   ]
  },
  {
   "cell_type": "markdown",
   "metadata": {},
   "source": [
    "### Comparing passenger counts"
   ]
  },
  {
   "cell_type": "code",
   "execution_count": 57,
   "metadata": {},
   "outputs": [
    {
     "data": {
      "text/plain": [
       "Text(0.5,1,'Histogram of passenger counts')"
      ]
     },
     "execution_count": 57,
     "metadata": {},
     "output_type": "execute_result"
    },
    {
     "data": {
      "image/png": "[encoded data removed]",
      "text/plain": [
       "<matplotlib.figure.Figure at 0x1b3d6718710>"
      ]
     },
     "metadata": {},
     "output_type": "display_data"
    }
   ],
   "source": [
    "fig = plt.figure()\n",
    "plt.hist(data2019[(data2019['YYYYMM']<201907) & (data2019['YYYYMM']>=201904) & (data2019['passenger_count']<=5) & (data2019['passenger_count']>=0)]['passenger_count'], 50, color='g', label='2019', normed=True)\n",
    "plt.hist(data2020[(data2020['YYYYMM']<202007) & (data2020['YYYYMM']>=202004) & (data2020['passenger_count']<=5) & (data2020['passenger_count']>=0)]['passenger_count'], 50, color='b', label='2020', normed=True)\n",
    "plt.legend()\n",
    "plt.title('Histogram of passenger counts')"
   ]
  },
  {
   "cell_type": "code",
   "execution_count": 58,
   "metadata": {},
   "outputs": [
    {
     "data": {
      "text/plain": [
       "<matplotlib.legend.Legend at 0x1b3877bd2e8>"
      ]
     },
     "execution_count": 58,
     "metadata": {},
     "output_type": "execute_result"
    },
    {
     "data": {
      "image/png": "[encoded data removed]",
      "text/plain": [
       "<matplotlib.figure.Figure at 0x1b3875e6898>"
      ]
     },
     "metadata": {},
     "output_type": "display_data"
    }
   ],
   "source": [
    "fig = plt.figure()\n",
    "plt.plot(ppl2019.index, ppl2019['passenger_count'], 'g', label='2019 transaction', linewidth=2)\n",
    "plt.plot(ppl2020.index, ppl2020['passenger_count'], 'b', label='2020 transaction', linewidth=2)\n",
    "plt.title('Taxi transaction travel passengers counts pre and post Covid-19')\n",
    "plt.xticks(np.arange(6), ['Jan', 'Feb', 'Mar', 'Apr', 'May', 'Jun'])\n",
    "plt.ylabel('Mean passenger number')\n",
    "plt.xlabel('Time')\n",
    "plt.legend()"
   ]
  },
  {
   "cell_type": "code",
   "execution_count": 59,
   "metadata": {},
   "outputs": [
    {
     "data": {
      "text/plain": [
       "0.23878678075911286"
      ]
     },
     "execution_count": 59,
     "metadata": {},
     "output_type": "execute_result"
    }
   ],
   "source": [
    "data2019[(data2019['YYYYMM']<201907) & (data2019['YYYYMM']>=201904)]['passenger_count'].mean()-\\\n",
    "data2020[(data2020['YYYYMM']<202007) & (data2020['YYYYMM']>=202004)]['passenger_count'].mean()"
   ]
  },
  {
   "cell_type": "markdown",
   "metadata": {},
   "source": [
    "Summary: In 2019, there is not much fluctuation in average travel passengers per trip from Jan to Jun. However, in 2020, clearly, Covid-19 has induced the number of passengers per trip to go down. By computing the average passenger per trip in 2019Q2 and 2020Q2, we can see that it has dropped by 0.24. This could be that people want to keep social distance with others even when taking taxis."
   ]
  },
  {
   "cell_type": "markdown",
   "metadata": {},
   "source": [
    "## Question 2: Study 2019 cab industry\n",
    "\n",
    "In 2019, what is the month of the year with the highest average tip, in terms of percentage? What is the day of the week with the highest tip? What is the hour of the day with the highest tip? \n",
    "\n",
    "Answer: In 2019, the month of the year with the highest average tip is Feb, in terms of percentage. The day of the week with the highest tip in 2019 is a Friday and the transaction hour is 9pm."
   ]
  },
  {
   "cell_type": "code",
   "execution_count": 105,
   "metadata": {},
   "outputs": [],
   "source": [
    "maxtip19=(data2019.groupby('YYYYMM')['tip_amount'].sum()/data2019.groupby('YYYYMM')['total_amount'].sum()).reset_index()"
   ]
  },
  {
   "cell_type": "code",
   "execution_count": 115,
   "metadata": {},
   "outputs": [
    {
     "name": "stderr",
     "output_type": "stream",
     "text": [
      "C:\\Users\\esper\\Anaconda3\\lib\\site-packages\\IPython\\core\\interactiveshell.py:2698: DtypeWarning: Columns (6) have mixed types. Specify dtype option on import or set low_memory=False.\n",
      "  interactivity=interactivity, compiler=compiler, result=result)\n"
     ]
    }
   ],
   "source": [
    "#Pulling out remaining data for the yellow taxi\n",
    "pick={}\n",
    "drop={}\n",
    "tip={}\n",
    "maxrecord={}\n",
    "JFK=[]\n",
    "LGA=[]\n",
    "for j in range (7, 13):\n",
    "    url = 'https://s3.amazonaws.com/nyc-tlc/trip+data/yellow_tripdata_2019-{}.csv'.format(str(j).zfill(2))\n",
    "    try:\n",
    "        df = pd.read_csv(url)\n",
    "        #df['pick_date']= df['tpep_pickup_datetime'].apply(lambda x: x[0:4]+x[5:7]+x[8:10]).astype(int)\n",
    "        #df['pick_hour']= df['tpep_pickup_datetime'].apply(lambda x: x[11:13]).astype(int)\n",
    "        #df['pick_minute']= df['tpep_pickup_datetime'].apply(lambda x: x[14:16]).astype(int)\n",
    "        #df['dropoff_date']= df['tpep_dropoff_datetime'].apply(lambda x: x[0:4]+x[5:7]+x[8:10]).astype(int)\n",
    "        #df['dropoff_hour']= df['tpep_dropoff_datetime'].apply(lambda x: x[11:13]).astype(int)\n",
    "        #df['dropoff_minute']= df['tpep_dropoff_datetime'].apply(lambda x: x[14:16]).astype(int)\n",
    "        #df['store_and_fwd_flag']= df['store_and_fwd_flag'].map({'Y': 1, 'N': 0})\n",
    "        pertip=df['tip_amount'].sum()/df['total_amount'].sum()\n",
    "        tip_max=df['tip_amount'].max()\n",
    "        tip[str(j).zfill(2)]=pertip\n",
    "        pick[str(j).zfill(2)]=df[df['tip_amount']==tip_max]['tpep_pickup_datetime'].unique()\n",
    "        drop[str(j).zfill(2)]=df[df['tip_amount']==tip_max]['tpep_dropoff_datetime'].unique()\n",
    "        maxrecord[str(j).zfill(2)]=tip_max\n",
    "        newJFK=list(df[df['PULocationID']==132]['tip_amount'].values)\n",
    "        JFK=JFK+newJFK\n",
    "        newLGA=list(df[df['PULocationID']==138]['tip_amount'].values)\n",
    "        LGA=LGA+newLGA\n",
    "    except HTTPError:\n",
    "        pass"
   ]
  },
  {
   "cell_type": "code",
   "execution_count": 116,
   "metadata": {},
   "outputs": [
    {
     "data": {
      "text/plain": [
       "{'07': array(['2019-07-24 00:46:10'], dtype=object),\n",
       " '08': array(['2019-08-04 17:50:06'], dtype=object),\n",
       " '09': array(['2019-09-06 02:20:53'], dtype=object),\n",
       " '10': array(['2019-10-12 21:49:18'], dtype=object),\n",
       " '11': array(['2019-11-15 14:26:12'], dtype=object),\n",
       " '12': array(['2019-12-20 23:24:00'], dtype=object)}"
      ]
     },
     "execution_count": 116,
     "metadata": {},
     "output_type": "execute_result"
    }
   ],
   "source": [
    "pick"
   ]
  },
  {
   "cell_type": "code",
   "execution_count": 117,
   "metadata": {},
   "outputs": [
    {
     "data": {
      "text/plain": [
       "3545"
      ]
     },
     "execution_count": 117,
     "metadata": {},
     "output_type": "execute_result"
    }
   ],
   "source": [
    "gc.collect()"
   ]
  },
  {
   "cell_type": "code",
   "execution_count": 6,
   "metadata": {},
   "outputs": [
    {
     "name": "stderr",
     "output_type": "stream",
     "text": [
      "C:\\Users\\esper\\Anaconda3\\lib\\site-packages\\IPython\\core\\interactiveshell.py:2698: DtypeWarning: Columns (3) have mixed types. Specify dtype option on import or set low_memory=False.\n",
      "  interactivity=interactivity, compiler=compiler, result=result)\n"
     ]
    }
   ],
   "source": [
    "## Pulling out data for the green taxi\n",
    "pickg={}\n",
    "dropg={}\n",
    "tipg={}\n",
    "maxrecordg={}\n",
    "JFKg=[]\n",
    "LGAg=[]\n",
    "for j in range (1, 13):\n",
    "    url = 'https://s3.amazonaws.com/nyc-tlc/trip+data/green_tripdata_2019-{}.csv'.format(str(j).zfill(2))\n",
    "    try:\n",
    "        df = pd.read_csv(url)\n",
    "        #df['pick_date']= df['tpep_pickup_datetime'].apply(lambda x: x[0:4]+x[5:7]+x[8:10]).astype(int)\n",
    "        #df['pick_hour']= df['tpep_pickup_datetime'].apply(lambda x: x[11:13]).astype(int)\n",
    "        #df['pick_minute']= df['tpep_pickup_datetime'].apply(lambda x: x[14:16]).astype(int)\n",
    "        #df['dropoff_date']= df['tpep_dropoff_datetime'].apply(lambda x: x[0:4]+x[5:7]+x[8:10]).astype(int)\n",
    "        #df['dropoff_hour']= df['tpep_dropoff_datetime'].apply(lambda x: x[11:13]).astype(int)\n",
    "        #df['dropoff_minute']= df['tpep_dropoff_datetime'].apply(lambda x: x[14:16]).astype(int)\n",
    "        #df['store_and_fwd_flag']= df['store_and_fwd_flag'].map({'Y': 1, 'N': 0})\n",
    "        pertip=df['tip_amount'].sum()/df['total_amount'].sum()\n",
    "        tip_max=df['tip_amount'].max()\n",
    "        tipg[str(j).zfill(2)]=pertip\n",
    "        pickg[str(j).zfill(2)]=df[df['tip_amount']==tip_max]['lpep_pickup_datetime'].unique()\n",
    "        dropg[str(j).zfill(2)]=df[df['tip_amount']==tip_max]['lpep_dropoff_datetime'].unique()\n",
    "        maxrecordg[str(j).zfill(2)]=tip_max\n",
    "        newJFKg=list(df[df['PULocationID']==132]['tip_amount'].values)\n",
    "        JFKg=JFKg+newJFKg\n",
    "        newLGAg=list(df[df['PULocationID']==138]['tip_amount'].values)\n",
    "        LGAg=LGAg+newLGAg\n",
    "    except HTTPError:\n",
    "        pass"
   ]
  },
  {
   "cell_type": "code",
   "execution_count": 7,
   "metadata": {},
   "outputs": [
    {
     "data": {
      "text/plain": [
       "{'01': 0.05377339912406731,\n",
       " '02': 0.05356390675459463,\n",
       " '03': 0.05482595885433664,\n",
       " '04': 0.06805879173849393,\n",
       " '05': 0.06811502513001469,\n",
       " '06': 0.06829758464400588,\n",
       " '07': 0.056723660045029205,\n",
       " '08': 0.05444127087550296,\n",
       " '09': 0.055709680923352496,\n",
       " '10': 0.051776026397306434,\n",
       " '11': 0.052170136112728534,\n",
       " '12': 0.050673825897358415}"
      ]
     },
     "execution_count": 7,
     "metadata": {},
     "output_type": "execute_result"
    }
   ],
   "source": [
    "tipg\n"
   ]
  },
  {
   "cell_type": "code",
   "execution_count": 13,
   "metadata": {},
   "outputs": [
    {
     "data": {
      "text/plain": [
       "{'01': 100.0,\n",
       " '02': 440.0,\n",
       " '03': 222.22,\n",
       " '04': 399.0,\n",
       " '05': 224.56999999999999,\n",
       " '06': 151.50999999999999,\n",
       " '07': 314.0,\n",
       " '08': 400.0,\n",
       " '09': 400.0,\n",
       " '10': 158.52000000000001,\n",
       " '11': 225.0,\n",
       " '12': 441.0}"
      ]
     },
     "execution_count": 13,
     "metadata": {},
     "output_type": "execute_result"
    }
   ],
   "source": [
    "maxrecordg"
   ]
  },
  {
   "cell_type": "code",
   "execution_count": 118,
   "metadata": {},
   "outputs": [],
   "source": [
    "tip_value19a = maxtip19[maxtip19['YYYYMM']<=201906][0].max()"
   ]
  },
  {
   "cell_type": "code",
   "execution_count": 119,
   "metadata": {},
   "outputs": [
    {
     "data": {
      "text/plain": [
       "True"
      ]
     },
     "execution_count": 119,
     "metadata": {},
     "output_type": "execute_result"
    }
   ],
   "source": [
    "tip_value19a>max(tip.values())"
   ]
  },
  {
   "cell_type": "code",
   "execution_count": 120,
   "metadata": {},
   "outputs": [
    {
     "data": {
      "text/html": [
       "<div>\n",
       "<style>\n",
       "    .dataframe thead tr:only-child th {\n",
       "        text-align: right;\n",
       "    }\n",
       "\n",
       "    .dataframe thead th {\n",
       "        text-align: left;\n",
       "    }\n",
       "\n",
       "    .dataframe tbody tr th {\n",
       "        vertical-align: top;\n",
       "    }\n",
       "</style>\n",
       "<table border=\"1\" class=\"dataframe\">\n",
       "  <thead>\n",
       "    <tr style=\"text-align: right;\">\n",
       "      <th></th>\n",
       "      <th>YYYYMM</th>\n",
       "      <th>0</th>\n",
       "    </tr>\n",
       "  </thead>\n",
       "  <tbody>\n",
       "    <tr>\n",
       "      <th>1</th>\n",
       "      <td>201902</td>\n",
       "      <td>0.116572</td>\n",
       "    </tr>\n",
       "  </tbody>\n",
       "</table>\n",
       "</div>"
      ],
      "text/plain": [
       "   YYYYMM         0\n",
       "1  201902  0.116572"
      ]
     },
     "execution_count": 120,
     "metadata": {},
     "output_type": "execute_result"
    }
   ],
   "source": [
    "maxtip19[maxtip19[0]==tip_value19a]"
   ]
  },
  {
   "cell_type": "markdown",
   "metadata": {},
   "source": [
    "The yellow taxi has higher tip than the green taxi."
   ]
  },
  {
   "cell_type": "code",
   "execution_count": 124,
   "metadata": {},
   "outputs": [
    {
     "data": {
      "text/plain": [
       "['10']"
      ]
     },
     "execution_count": 124,
     "metadata": {},
     "output_type": "execute_result"
    }
   ],
   "source": [
    "[k for k in maxrecord.keys() if maxrecord[k]==max(maxrecord.values())]\n"
   ]
  },
  {
   "cell_type": "code",
   "execution_count": 126,
   "metadata": {},
   "outputs": [
    {
     "data": {
      "text/plain": [
       "array(['2019-10-12 21:49:18'], dtype=object)"
      ]
     },
     "execution_count": 126,
     "metadata": {},
     "output_type": "execute_result"
    }
   ],
   "source": [
    "pick['10']\n"
   ]
  },
  {
   "cell_type": "code",
   "execution_count": 132,
   "metadata": {},
   "outputs": [
    {
     "name": "stdout",
     "output_type": "stream",
     "text": [
      "5\n"
     ]
    }
   ],
   "source": [
    "import calendar\n",
    "print(calendar.weekday(2019, 10, 12))"
   ]
  },
  {
   "cell_type": "markdown",
   "metadata": {},
   "source": [
    "## Question 3: Average tip"
   ]
  },
  {
   "cell_type": "markdown",
   "metadata": {},
   "source": [
    "What is the average tip of trips starting from LGA and JFK, respectively?\n",
    "\n",
    "Answer: This question should be done using the entire dataset from 2009 to 2020 based on the yellow and green taxi transactions. However, given the limitation of time and computer RAM compacity, it will take multiple days to load the data. Here I will compute the average tip using only 2019 and 2020 yellow taxi transaction data. The average tip from LGA is 5.52 dollars and the average tip from JFK is 5.85 dollars.\n",
    "\n",
    "Another way to query the information is by using Amazon S3 select which requires an Amazon AWS account. Once I know the query bucket and key, I will be able to do it."
   ]
  },
  {
   "cell_type": "code",
   "execution_count": 8,
   "metadata": {
    "collapsed": true
   },
   "outputs": [],
   "source": [
    "location=pd.read_csv('https://s3.amazonaws.com/nyc-tlc/misc/taxi+_zone_lookup.csv')"
   ]
  },
  {
   "cell_type": "code",
   "execution_count": 10,
   "metadata": {},
   "outputs": [
    {
     "data": {
      "text/html": [
       "<div>\n",
       "<style>\n",
       "    .dataframe thead tr:only-child th {\n",
       "        text-align: right;\n",
       "    }\n",
       "\n",
       "    .dataframe thead th {\n",
       "        text-align: left;\n",
       "    }\n",
       "\n",
       "    .dataframe tbody tr th {\n",
       "        vertical-align: top;\n",
       "    }\n",
       "</style>\n",
       "<table border=\"1\" class=\"dataframe\">\n",
       "  <thead>\n",
       "    <tr style=\"text-align: right;\">\n",
       "      <th></th>\n",
       "      <th>LocationID</th>\n",
       "      <th>Borough</th>\n",
       "      <th>Zone</th>\n",
       "      <th>service_zone</th>\n",
       "    </tr>\n",
       "  </thead>\n",
       "  <tbody>\n",
       "    <tr>\n",
       "      <th>131</th>\n",
       "      <td>132</td>\n",
       "      <td>Queens</td>\n",
       "      <td>JFK Airport</td>\n",
       "      <td>Airports</td>\n",
       "    </tr>\n",
       "    <tr>\n",
       "      <th>137</th>\n",
       "      <td>138</td>\n",
       "      <td>Queens</td>\n",
       "      <td>LaGuardia Airport</td>\n",
       "      <td>Airports</td>\n",
       "    </tr>\n",
       "  </tbody>\n",
       "</table>\n",
       "</div>"
      ],
      "text/plain": [
       "     LocationID Borough               Zone service_zone\n",
       "131         132  Queens        JFK Airport     Airports\n",
       "137         138  Queens  LaGuardia Airport     Airports"
      ]
     },
     "execution_count": 10,
     "metadata": {},
     "output_type": "execute_result"
    }
   ],
   "source": [
    "location[location['Zone'].isin(['JFK Airport', 'LaGuardia Airport'])]"
   ]
  },
  {
   "cell_type": "code",
   "execution_count": 92,
   "metadata": {},
   "outputs": [
    {
     "data": {
      "text/plain": [
       "5.5238534627698241"
      ]
     },
     "execution_count": 92,
     "metadata": {},
     "output_type": "execute_result"
    }
   ],
   "source": [
    "#LGA\n",
    "np.mean(LGA+list(data2019[data2019['PULocationID']==138]['tip_amount'].values)\\\n",
    "+list(data2020[data2020['PULocationID']==138]['tip_amount'].values))"
   ]
  },
  {
   "cell_type": "code",
   "execution_count": 93,
   "metadata": {},
   "outputs": [
    {
     "data": {
      "text/plain": [
       "5.8465710551342198"
      ]
     },
     "execution_count": 93,
     "metadata": {},
     "output_type": "execute_result"
    }
   ],
   "source": [
    "#JFK\n",
    "np.mean(JFK+list(data2019[data2019['PULocationID']==132]['tip_amount'].values)\\\n",
    "+list(data2020[data2020['PULocationID']==132]['tip_amount'].values))"
   ]
  },
  {
   "cell_type": "markdown",
   "metadata": {},
   "source": [
    "If time permitted, we can run the following code to extract the dataframe with transactions related to JFK or LGA in the entire database for yellow taxi and green taxi."
   ]
  },
  {
   "cell_type": "code",
   "execution_count": 12,
   "metadata": {},
   "outputs": [
    {
     "ename": "KeyboardInterrupt",
     "evalue": "",
     "output_type": "error",
     "traceback": [
      "\u001b[1;31m---------------------------------------------------------------------------\u001b[0m",
      "\u001b[1;31mKeyboardInterrupt\u001b[0m                         Traceback (most recent call last)",
      "\u001b[1;32m<ipython-input-12-7d9c6b50d3f2>\u001b[0m in \u001b[0;36m<module>\u001b[1;34m()\u001b[0m\n\u001b[0;32m      5\u001b[0m         \u001b[0murl\u001b[0m \u001b[1;33m=\u001b[0m \u001b[1;34m'https://s3.amazonaws.com/nyc-tlc/trip+data/yellow_tripdata_{}-{}.csv'\u001b[0m\u001b[1;33m.\u001b[0m\u001b[0mformat\u001b[0m\u001b[1;33m(\u001b[0m\u001b[0mstr\u001b[0m\u001b[1;33m(\u001b[0m\u001b[0mi\u001b[0m\u001b[1;33m)\u001b[0m\u001b[1;33m,\u001b[0m \u001b[0mstr\u001b[0m\u001b[1;33m(\u001b[0m\u001b[0mj\u001b[0m\u001b[1;33m)\u001b[0m\u001b[1;33m.\u001b[0m\u001b[0mzfill\u001b[0m\u001b[1;33m(\u001b[0m\u001b[1;36m2\u001b[0m\u001b[1;33m)\u001b[0m\u001b[1;33m)\u001b[0m\u001b[1;33m\u001b[0m\u001b[0m\n\u001b[0;32m      6\u001b[0m         \u001b[1;32mtry\u001b[0m\u001b[1;33m:\u001b[0m\u001b[1;33m\u001b[0m\u001b[0m\n\u001b[1;32m----> 7\u001b[1;33m             \u001b[0mdf\u001b[0m \u001b[1;33m=\u001b[0m \u001b[0mpd\u001b[0m\u001b[1;33m.\u001b[0m\u001b[0mread_csv\u001b[0m\u001b[1;33m(\u001b[0m\u001b[0murl\u001b[0m\u001b[1;33m)\u001b[0m\u001b[1;33m\u001b[0m\u001b[0m\n\u001b[0m\u001b[0;32m      8\u001b[0m             \u001b[0mdf\u001b[0m\u001b[1;33m=\u001b[0m\u001b[0mdf\u001b[0m\u001b[1;33m[\u001b[0m\u001b[0mdf\u001b[0m\u001b[1;33m[\u001b[0m\u001b[1;34m'PULocationID'\u001b[0m\u001b[1;33m]\u001b[0m\u001b[1;33m.\u001b[0m\u001b[0misin\u001b[0m\u001b[1;33m(\u001b[0m\u001b[1;33m[\u001b[0m\u001b[1;36m132\u001b[0m\u001b[1;33m,\u001b[0m \u001b[1;36m138\u001b[0m\u001b[1;33m]\u001b[0m\u001b[1;33m)\u001b[0m\u001b[1;33m]\u001b[0m\u001b[1;33m\u001b[0m\u001b[0m\n\u001b[0;32m      9\u001b[0m             \u001b[0mdf\u001b[0m\u001b[1;33m[\u001b[0m\u001b[1;34m'pick_date'\u001b[0m\u001b[1;33m]\u001b[0m\u001b[1;33m=\u001b[0m \u001b[0mdf\u001b[0m\u001b[1;33m[\u001b[0m\u001b[1;34m'tpep_pickup_datetime'\u001b[0m\u001b[1;33m]\u001b[0m\u001b[1;33m.\u001b[0m\u001b[0mapply\u001b[0m\u001b[1;33m(\u001b[0m\u001b[1;32mlambda\u001b[0m \u001b[0mx\u001b[0m\u001b[1;33m:\u001b[0m \u001b[0mx\u001b[0m\u001b[1;33m[\u001b[0m\u001b[1;36m0\u001b[0m\u001b[1;33m:\u001b[0m\u001b[1;36m4\u001b[0m\u001b[1;33m]\u001b[0m\u001b[1;33m+\u001b[0m\u001b[0mx\u001b[0m\u001b[1;33m[\u001b[0m\u001b[1;36m5\u001b[0m\u001b[1;33m:\u001b[0m\u001b[1;36m7\u001b[0m\u001b[1;33m]\u001b[0m\u001b[1;33m+\u001b[0m\u001b[0mx\u001b[0m\u001b[1;33m[\u001b[0m\u001b[1;36m8\u001b[0m\u001b[1;33m:\u001b[0m\u001b[1;36m10\u001b[0m\u001b[1;33m]\u001b[0m\u001b[1;33m)\u001b[0m\u001b[1;33m.\u001b[0m\u001b[0mastype\u001b[0m\u001b[1;33m(\u001b[0m\u001b[0mint\u001b[0m\u001b[1;33m)\u001b[0m\u001b[1;33m\u001b[0m\u001b[0m\n",
      "\u001b[1;32m~\\Anaconda3\\lib\\site-packages\\pandas\\io\\parsers.py\u001b[0m in \u001b[0;36mparser_f\u001b[1;34m(filepath_or_buffer, sep, delimiter, header, names, index_col, usecols, squeeze, prefix, mangle_dupe_cols, dtype, engine, converters, true_values, false_values, skipinitialspace, skiprows, nrows, na_values, keep_default_na, na_filter, verbose, skip_blank_lines, parse_dates, infer_datetime_format, keep_date_col, date_parser, dayfirst, iterator, chunksize, compression, thousands, decimal, lineterminator, quotechar, quoting, escapechar, comment, encoding, dialect, tupleize_cols, error_bad_lines, warn_bad_lines, skipfooter, skip_footer, doublequote, delim_whitespace, as_recarray, compact_ints, use_unsigned, low_memory, buffer_lines, memory_map, float_precision)\u001b[0m\n\u001b[0;32m    653\u001b[0m                     skip_blank_lines=skip_blank_lines)\n\u001b[0;32m    654\u001b[0m \u001b[1;33m\u001b[0m\u001b[0m\n\u001b[1;32m--> 655\u001b[1;33m         \u001b[1;32mreturn\u001b[0m \u001b[0m_read\u001b[0m\u001b[1;33m(\u001b[0m\u001b[0mfilepath_or_buffer\u001b[0m\u001b[1;33m,\u001b[0m \u001b[0mkwds\u001b[0m\u001b[1;33m)\u001b[0m\u001b[1;33m\u001b[0m\u001b[0m\n\u001b[0m\u001b[0;32m    656\u001b[0m \u001b[1;33m\u001b[0m\u001b[0m\n\u001b[0;32m    657\u001b[0m     \u001b[0mparser_f\u001b[0m\u001b[1;33m.\u001b[0m\u001b[0m__name__\u001b[0m \u001b[1;33m=\u001b[0m \u001b[0mname\u001b[0m\u001b[1;33m\u001b[0m\u001b[0m\n",
      "\u001b[1;32m~\\Anaconda3\\lib\\site-packages\\pandas\\io\\parsers.py\u001b[0m in \u001b[0;36m_read\u001b[1;34m(filepath_or_buffer, kwds)\u001b[0m\n\u001b[0;32m    390\u001b[0m     \u001b[0mcompression\u001b[0m \u001b[1;33m=\u001b[0m \u001b[0m_infer_compression\u001b[0m\u001b[1;33m(\u001b[0m\u001b[0mfilepath_or_buffer\u001b[0m\u001b[1;33m,\u001b[0m \u001b[0mcompression\u001b[0m\u001b[1;33m)\u001b[0m\u001b[1;33m\u001b[0m\u001b[0m\n\u001b[0;32m    391\u001b[0m     filepath_or_buffer, _, compression = get_filepath_or_buffer(\n\u001b[1;32m--> 392\u001b[1;33m         filepath_or_buffer, encoding, compression)\n\u001b[0m\u001b[0;32m    393\u001b[0m     \u001b[0mkwds\u001b[0m\u001b[1;33m[\u001b[0m\u001b[1;34m'compression'\u001b[0m\u001b[1;33m]\u001b[0m \u001b[1;33m=\u001b[0m \u001b[0mcompression\u001b[0m\u001b[1;33m\u001b[0m\u001b[0m\n\u001b[0;32m    394\u001b[0m \u001b[1;33m\u001b[0m\u001b[0m\n",
      "\u001b[1;32m~\\Anaconda3\\lib\\site-packages\\pandas\\io\\common.py\u001b[0m in \u001b[0;36mget_filepath_or_buffer\u001b[1;34m(filepath_or_buffer, encoding, compression)\u001b[0m\n\u001b[0;32m    189\u001b[0m             \u001b[1;31m# Override compression based on Content-Encoding header\u001b[0m\u001b[1;33m\u001b[0m\u001b[1;33m\u001b[0m\u001b[0m\n\u001b[0;32m    190\u001b[0m             \u001b[0mcompression\u001b[0m \u001b[1;33m=\u001b[0m \u001b[1;34m'gzip'\u001b[0m\u001b[1;33m\u001b[0m\u001b[0m\n\u001b[1;32m--> 191\u001b[1;33m         \u001b[0mreader\u001b[0m \u001b[1;33m=\u001b[0m \u001b[0mBytesIO\u001b[0m\u001b[1;33m(\u001b[0m\u001b[0mreq\u001b[0m\u001b[1;33m.\u001b[0m\u001b[0mread\u001b[0m\u001b[1;33m(\u001b[0m\u001b[1;33m)\u001b[0m\u001b[1;33m)\u001b[0m\u001b[1;33m\u001b[0m\u001b[0m\n\u001b[0m\u001b[0;32m    192\u001b[0m         \u001b[1;32mreturn\u001b[0m \u001b[0mreader\u001b[0m\u001b[1;33m,\u001b[0m \u001b[0mencoding\u001b[0m\u001b[1;33m,\u001b[0m \u001b[0mcompression\u001b[0m\u001b[1;33m\u001b[0m\u001b[0m\n\u001b[0;32m    193\u001b[0m \u001b[1;33m\u001b[0m\u001b[0m\n",
      "\u001b[1;32m~\\Anaconda3\\lib\\http\\client.py\u001b[0m in \u001b[0;36mread\u001b[1;34m(self, amt)\u001b[0m\n\u001b[0;32m    460\u001b[0m             \u001b[1;32melse\u001b[0m\u001b[1;33m:\u001b[0m\u001b[1;33m\u001b[0m\u001b[0m\n\u001b[0;32m    461\u001b[0m                 \u001b[1;32mtry\u001b[0m\u001b[1;33m:\u001b[0m\u001b[1;33m\u001b[0m\u001b[0m\n\u001b[1;32m--> 462\u001b[1;33m                     \u001b[0ms\u001b[0m \u001b[1;33m=\u001b[0m \u001b[0mself\u001b[0m\u001b[1;33m.\u001b[0m\u001b[0m_safe_read\u001b[0m\u001b[1;33m(\u001b[0m\u001b[0mself\u001b[0m\u001b[1;33m.\u001b[0m\u001b[0mlength\u001b[0m\u001b[1;33m)\u001b[0m\u001b[1;33m\u001b[0m\u001b[0m\n\u001b[0m\u001b[0;32m    463\u001b[0m                 \u001b[1;32mexcept\u001b[0m \u001b[0mIncompleteRead\u001b[0m\u001b[1;33m:\u001b[0m\u001b[1;33m\u001b[0m\u001b[0m\n\u001b[0;32m    464\u001b[0m                     \u001b[0mself\u001b[0m\u001b[1;33m.\u001b[0m\u001b[0m_close_conn\u001b[0m\u001b[1;33m(\u001b[0m\u001b[1;33m)\u001b[0m\u001b[1;33m\u001b[0m\u001b[0m\n",
      "\u001b[1;32m~\\Anaconda3\\lib\\http\\client.py\u001b[0m in \u001b[0;36m_safe_read\u001b[1;34m(self, amt)\u001b[0m\n\u001b[0;32m    610\u001b[0m         \u001b[0ms\u001b[0m \u001b[1;33m=\u001b[0m \u001b[1;33m[\u001b[0m\u001b[1;33m]\u001b[0m\u001b[1;33m\u001b[0m\u001b[0m\n\u001b[0;32m    611\u001b[0m         \u001b[1;32mwhile\u001b[0m \u001b[0mamt\u001b[0m \u001b[1;33m>\u001b[0m \u001b[1;36m0\u001b[0m\u001b[1;33m:\u001b[0m\u001b[1;33m\u001b[0m\u001b[0m\n\u001b[1;32m--> 612\u001b[1;33m             \u001b[0mchunk\u001b[0m \u001b[1;33m=\u001b[0m \u001b[0mself\u001b[0m\u001b[1;33m.\u001b[0m\u001b[0mfp\u001b[0m\u001b[1;33m.\u001b[0m\u001b[0mread\u001b[0m\u001b[1;33m(\u001b[0m\u001b[0mmin\u001b[0m\u001b[1;33m(\u001b[0m\u001b[0mamt\u001b[0m\u001b[1;33m,\u001b[0m \u001b[0mMAXAMOUNT\u001b[0m\u001b[1;33m)\u001b[0m\u001b[1;33m)\u001b[0m\u001b[1;33m\u001b[0m\u001b[0m\n\u001b[0m\u001b[0;32m    613\u001b[0m             \u001b[1;32mif\u001b[0m \u001b[1;32mnot\u001b[0m \u001b[0mchunk\u001b[0m\u001b[1;33m:\u001b[0m\u001b[1;33m\u001b[0m\u001b[0m\n\u001b[0;32m    614\u001b[0m                 \u001b[1;32mraise\u001b[0m \u001b[0mIncompleteRead\u001b[0m\u001b[1;33m(\u001b[0m\u001b[1;34mb''\u001b[0m\u001b[1;33m.\u001b[0m\u001b[0mjoin\u001b[0m\u001b[1;33m(\u001b[0m\u001b[0ms\u001b[0m\u001b[1;33m)\u001b[0m\u001b[1;33m,\u001b[0m \u001b[0mamt\u001b[0m\u001b[1;33m)\u001b[0m\u001b[1;33m\u001b[0m\u001b[0m\n",
      "\u001b[1;32m~\\Anaconda3\\lib\\socket.py\u001b[0m in \u001b[0;36mreadinto\u001b[1;34m(self, b)\u001b[0m\n\u001b[0;32m    584\u001b[0m         \u001b[1;32mwhile\u001b[0m \u001b[1;32mTrue\u001b[0m\u001b[1;33m:\u001b[0m\u001b[1;33m\u001b[0m\u001b[0m\n\u001b[0;32m    585\u001b[0m             \u001b[1;32mtry\u001b[0m\u001b[1;33m:\u001b[0m\u001b[1;33m\u001b[0m\u001b[0m\n\u001b[1;32m--> 586\u001b[1;33m                 \u001b[1;32mreturn\u001b[0m \u001b[0mself\u001b[0m\u001b[1;33m.\u001b[0m\u001b[0m_sock\u001b[0m\u001b[1;33m.\u001b[0m\u001b[0mrecv_into\u001b[0m\u001b[1;33m(\u001b[0m\u001b[0mb\u001b[0m\u001b[1;33m)\u001b[0m\u001b[1;33m\u001b[0m\u001b[0m\n\u001b[0m\u001b[0;32m    587\u001b[0m             \u001b[1;32mexcept\u001b[0m \u001b[0mtimeout\u001b[0m\u001b[1;33m:\u001b[0m\u001b[1;33m\u001b[0m\u001b[0m\n\u001b[0;32m    588\u001b[0m                 \u001b[0mself\u001b[0m\u001b[1;33m.\u001b[0m\u001b[0m_timeout_occurred\u001b[0m \u001b[1;33m=\u001b[0m \u001b[1;32mTrue\u001b[0m\u001b[1;33m\u001b[0m\u001b[0m\n",
      "\u001b[1;32m~\\Anaconda3\\lib\\ssl.py\u001b[0m in \u001b[0;36mrecv_into\u001b[1;34m(self, buffer, nbytes, flags)\u001b[0m\n\u001b[0;32m   1007\u001b[0m                   \u001b[1;34m\"non-zero flags not allowed in calls to recv_into() on %s\"\u001b[0m \u001b[1;33m%\u001b[0m\u001b[1;33m\u001b[0m\u001b[0m\n\u001b[0;32m   1008\u001b[0m                   self.__class__)\n\u001b[1;32m-> 1009\u001b[1;33m             \u001b[1;32mreturn\u001b[0m \u001b[0mself\u001b[0m\u001b[1;33m.\u001b[0m\u001b[0mread\u001b[0m\u001b[1;33m(\u001b[0m\u001b[0mnbytes\u001b[0m\u001b[1;33m,\u001b[0m \u001b[0mbuffer\u001b[0m\u001b[1;33m)\u001b[0m\u001b[1;33m\u001b[0m\u001b[0m\n\u001b[0m\u001b[0;32m   1010\u001b[0m         \u001b[1;32melse\u001b[0m\u001b[1;33m:\u001b[0m\u001b[1;33m\u001b[0m\u001b[0m\n\u001b[0;32m   1011\u001b[0m             \u001b[1;32mreturn\u001b[0m \u001b[0msocket\u001b[0m\u001b[1;33m.\u001b[0m\u001b[0mrecv_into\u001b[0m\u001b[1;33m(\u001b[0m\u001b[0mself\u001b[0m\u001b[1;33m,\u001b[0m \u001b[0mbuffer\u001b[0m\u001b[1;33m,\u001b[0m \u001b[0mnbytes\u001b[0m\u001b[1;33m,\u001b[0m \u001b[0mflags\u001b[0m\u001b[1;33m)\u001b[0m\u001b[1;33m\u001b[0m\u001b[0m\n",
      "\u001b[1;32m~\\Anaconda3\\lib\\ssl.py\u001b[0m in \u001b[0;36mread\u001b[1;34m(self, len, buffer)\u001b[0m\n\u001b[0;32m    869\u001b[0m             \u001b[1;32mraise\u001b[0m \u001b[0mValueError\u001b[0m\u001b[1;33m(\u001b[0m\u001b[1;34m\"Read on closed or unwrapped SSL socket.\"\u001b[0m\u001b[1;33m)\u001b[0m\u001b[1;33m\u001b[0m\u001b[0m\n\u001b[0;32m    870\u001b[0m         \u001b[1;32mtry\u001b[0m\u001b[1;33m:\u001b[0m\u001b[1;33m\u001b[0m\u001b[0m\n\u001b[1;32m--> 871\u001b[1;33m             \u001b[1;32mreturn\u001b[0m \u001b[0mself\u001b[0m\u001b[1;33m.\u001b[0m\u001b[0m_sslobj\u001b[0m\u001b[1;33m.\u001b[0m\u001b[0mread\u001b[0m\u001b[1;33m(\u001b[0m\u001b[0mlen\u001b[0m\u001b[1;33m,\u001b[0m \u001b[0mbuffer\u001b[0m\u001b[1;33m)\u001b[0m\u001b[1;33m\u001b[0m\u001b[0m\n\u001b[0m\u001b[0;32m    872\u001b[0m         \u001b[1;32mexcept\u001b[0m \u001b[0mSSLError\u001b[0m \u001b[1;32mas\u001b[0m \u001b[0mx\u001b[0m\u001b[1;33m:\u001b[0m\u001b[1;33m\u001b[0m\u001b[0m\n\u001b[0;32m    873\u001b[0m             \u001b[1;32mif\u001b[0m \u001b[0mx\u001b[0m\u001b[1;33m.\u001b[0m\u001b[0margs\u001b[0m\u001b[1;33m[\u001b[0m\u001b[1;36m0\u001b[0m\u001b[1;33m]\u001b[0m \u001b[1;33m==\u001b[0m \u001b[0mSSL_ERROR_EOF\u001b[0m \u001b[1;32mand\u001b[0m \u001b[0mself\u001b[0m\u001b[1;33m.\u001b[0m\u001b[0msuppress_ragged_eofs\u001b[0m\u001b[1;33m:\u001b[0m\u001b[1;33m\u001b[0m\u001b[0m\n",
      "\u001b[1;32m~\\Anaconda3\\lib\\ssl.py\u001b[0m in \u001b[0;36mread\u001b[1;34m(self, len, buffer)\u001b[0m\n\u001b[0;32m    629\u001b[0m         \"\"\"\n\u001b[0;32m    630\u001b[0m         \u001b[1;32mif\u001b[0m \u001b[0mbuffer\u001b[0m \u001b[1;32mis\u001b[0m \u001b[1;32mnot\u001b[0m \u001b[1;32mNone\u001b[0m\u001b[1;33m:\u001b[0m\u001b[1;33m\u001b[0m\u001b[0m\n\u001b[1;32m--> 631\u001b[1;33m             \u001b[0mv\u001b[0m \u001b[1;33m=\u001b[0m \u001b[0mself\u001b[0m\u001b[1;33m.\u001b[0m\u001b[0m_sslobj\u001b[0m\u001b[1;33m.\u001b[0m\u001b[0mread\u001b[0m\u001b[1;33m(\u001b[0m\u001b[0mlen\u001b[0m\u001b[1;33m,\u001b[0m \u001b[0mbuffer\u001b[0m\u001b[1;33m)\u001b[0m\u001b[1;33m\u001b[0m\u001b[0m\n\u001b[0m\u001b[0;32m    632\u001b[0m         \u001b[1;32melse\u001b[0m\u001b[1;33m:\u001b[0m\u001b[1;33m\u001b[0m\u001b[0m\n\u001b[0;32m    633\u001b[0m             \u001b[0mv\u001b[0m \u001b[1;33m=\u001b[0m \u001b[0mself\u001b[0m\u001b[1;33m.\u001b[0m\u001b[0m_sslobj\u001b[0m\u001b[1;33m.\u001b[0m\u001b[0mread\u001b[0m\u001b[1;33m(\u001b[0m\u001b[0mlen\u001b[0m\u001b[1;33m)\u001b[0m\u001b[1;33m\u001b[0m\u001b[0m\n",
      "\u001b[1;31mKeyboardInterrupt\u001b[0m: "
     ]
    }
   ],
   "source": [
    "JFK_full=[]\n",
    "LGA_full=[]\n",
    "for i in range(2009, 2020):\n",
    "    for j in range (1, 13):\n",
    "        url = 'https://s3.amazonaws.com/nyc-tlc/trip+data/yellow_tripdata_{}-{}.csv'.format(str(i), str(j).zfill(2))\n",
    "        try:\n",
    "            df = pd.read_csv(url)\n",
    "            df=df[df['PULocationID'].isin([132, 138])]\n",
    "            df['pick_date']= df['tpep_pickup_datetime'].apply(lambda x: x[0:4]+x[5:7]+x[8:10]).astype(int)\n",
    "            newJFK=list(df[df['PULocationID']==132]['tip_amount'].values)\n",
    "            JFK_full=JFK_full+newJFK\n",
    "            newLGA=list(df[df['PULocationID']==138]['tip_amount'].values)\n",
    "            LGA_full=LGA_full+newLGA\n",
    "        except KeyError:\n",
    "            pass\n",
    "        except HTTPError:\n",
    "            pass\n",
    "        "
   ]
  },
  {
   "cell_type": "code",
   "execution_count": null,
   "metadata": {
    "collapsed": true
   },
   "outputs": [],
   "source": [
    "np.mean(JFK_full)"
   ]
  },
  {
   "cell_type": "code",
   "execution_count": null,
   "metadata": {
    "collapsed": true
   },
   "outputs": [],
   "source": [
    "np.mean(LGA_full)"
   ]
  },
  {
   "cell_type": "code",
   "execution_count": null,
   "metadata": {
    "collapsed": true
   },
   "outputs": [],
   "source": [
    "JFK_fullg=[]\n",
    "LGA_fullg=[]\n",
    "for i in range(2013, 2020):\n",
    "    for j in range (1, 13):\n",
    "        url = 'https://s3.amazonaws.com/nyc-tlc/trip+data/green_tripdata_{}-{}.csv'.format(str(i), str(j).zfill(2))\n",
    "        try:\n",
    "            df = pd.read_csv(url)\n",
    "            df=df[df['PULocationID'].isin([132, 138])]\n",
    "            df['pick_date']= df['tpep_pickup_datetime'].apply(lambda x: x[0:4]+x[5:7]+x[8:10]).astype(int)\n",
    "            newJFKg=list(df[df['PULocationID']==132]['tip_amount'].values)\n",
    "            JFK_fullg=JFK_fullg+newJFKg\n",
    "            newLGAg=list(df[df['PULocationID']==138]['tip_amount'].values)\n",
    "            LGA_fullg=LGA_fullg+newLGAg\n",
    "        except KeyError:\n",
    "            pass\n",
    "        except HTTPError:\n",
    "            pass"
   ]
  },
  {
   "cell_type": "code",
   "execution_count": null,
   "metadata": {
    "collapsed": true
   },
   "outputs": [],
   "source": [
    "np.mean(JFK_fullg)"
   ]
  },
  {
   "cell_type": "code",
   "execution_count": null,
   "metadata": {
    "collapsed": true
   },
   "outputs": [],
   "source": [
    "np.mean(LGA_fullg)"
   ]
  }
 ],
 "metadata": {
  "kernelspec": {
   "display_name": "Python 3",
   "language": "python",
   "name": "python3"
  },
  "language_info": {
   "codemirror_mode": {
    "name": "ipython",
    "version": 3
   },
   "file_extension": ".py",
   "mimetype": "text/x-python",
   "name": "python",
   "nbconvert_exporter": "python",
   "pygments_lexer": "ipython3",
   "version": "3.6.3"
  }
 },
 "nbformat": 4,
 "nbformat_minor": 2
}
